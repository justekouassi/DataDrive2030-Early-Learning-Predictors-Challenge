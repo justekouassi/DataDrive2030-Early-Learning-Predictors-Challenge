{
 "cells": [
  {
   "attachments": {},
   "cell_type": "markdown",
   "id": "e25f17d3",
   "metadata": {
    "papermill": {
     "duration": 0.008162,
     "end_time": "2023-02-24T01:29:59.366108",
     "exception": false,
     "start_time": "2023-02-24T01:29:59.357946",
     "status": "completed"
    },
    "tags": []
   },
   "source": [
    "# DataDrive2030 Early Learning Predictors Baseline CHALLENGE AT ZIndi"
   ]
  },
  {
   "attachments": {},
   "cell_type": "markdown",
   "id": "5af223f2",
   "metadata": {},
   "source": [
    "https://zindi.africa/competitions/datadrive2030-early-learning-predictors-challenge"
   ]
  },
  {
   "attachments": {},
   "cell_type": "markdown",
   "id": "6fe7969b",
   "metadata": {},
   "source": [
    "## Importing modules"
   ]
  },
  {
   "cell_type": "code",
   "execution_count": 98,
   "id": "b7bafa25",
   "metadata": {
    "_cell_guid": "b1076dfc-b9ad-4769-8c92-a6c4dae69d19",
    "_uuid": "8f2839f25d086af736a60e9eeb907d3b93b6e0e5",
    "execution": {
     "iopub.execute_input": "2023-02-24T01:29:59.382301Z",
     "iopub.status.busy": "2023-02-24T01:29:59.380723Z",
     "iopub.status.idle": "2023-02-24T01:30:00.855634Z",
     "shell.execute_reply": "2023-02-24T01:30:00.854304Z"
    },
    "papermill": {
     "duration": 1.486968,
     "end_time": "2023-02-24T01:30:00.859603",
     "exception": false,
     "start_time": "2023-02-24T01:29:59.372635",
     "status": "completed"
    },
    "tags": []
   },
   "outputs": [],
   "source": [
    "import numpy as np\n",
    "import pandas as pd\n",
    "# visualization\n",
    "import matplotlib.pyplot as plt\n",
    "import seaborn as sns\n",
    "# encoding\n",
    "from sklearn.preprocessing import OrdinalEncoder\n",
    "# scaling\n",
    "from sklearn.preprocessing import MaxAbsScaler, MinMaxScaler, RobustScaler, StandardScaler\n",
    "# splitting\n",
    "from sklearn.model_selection import train_test_split\n",
    "# models\n",
    "from catboost import CatBoostRegressor, Pool\n",
    "# metrics\n",
    "from sklearn.metrics import mean_squared_error\n",
    "# model interpretability library\n",
    "import shap\n",
    "# utils\n",
    "import torch\n",
    "import random\n",
    "from tqdm import tqdm\n",
    "from datetime import datetime as dt\n",
    "import joblib"
   ]
  },
  {
   "cell_type": "code",
   "execution_count": 80,
   "id": "369d19ed",
   "metadata": {},
   "outputs": [],
   "source": [
    "# Set seed for reproducability\n",
    "SEED = 12\n",
    "random.seed(SEED)\n",
    "np.random.seed(SEED)"
   ]
  },
  {
   "attachments": {},
   "cell_type": "markdown",
   "id": "1bae3b24",
   "metadata": {},
   "source": [
    "## Data loading"
   ]
  },
  {
   "cell_type": "code",
   "execution_count": 3,
   "id": "5d7d892f",
   "metadata": {
    "execution": {
     "iopub.execute_input": "2023-02-24T01:30:00.876712Z",
     "iopub.status.busy": "2023-02-24T01:30:00.875296Z",
     "iopub.status.idle": "2023-02-24T01:30:02.734625Z",
     "shell.execute_reply": "2023-02-24T01:30:02.731939Z"
    },
    "papermill": {
     "duration": 1.870717,
     "end_time": "2023-02-24T01:30:02.737828",
     "exception": false,
     "start_time": "2023-02-24T01:30:00.867111",
     "status": "completed"
    },
    "tags": []
   },
   "outputs": [],
   "source": [
    "DATA_PATH = 'data/'\n",
    "Train = pd.read_csv(DATA_PATH + 'Train.csv', low_memory=False)\n",
    "Test = pd.read_csv(DATA_PATH + 'Test.csv', low_memory=False)\n",
    "SampleSubmission = pd.read_csv(DATA_PATH + 'SampleSubmission.csv', low_memory=False)\n",
    "VariableDescription = pd.read_csv(DATA_PATH + 'VariableDescription.csv', low_memory=False)"
   ]
  },
  {
   "attachments": {},
   "cell_type": "markdown",
   "id": "b4652520",
   "metadata": {},
   "source": [
    "## EDA"
   ]
  },
  {
   "cell_type": "code",
   "execution_count": 99,
   "id": "e2d1d0b7",
   "metadata": {
    "execution": {
     "iopub.execute_input": "2023-02-24T01:30:02.753050Z",
     "iopub.status.busy": "2023-02-24T01:30:02.752551Z",
     "iopub.status.idle": "2023-02-24T01:30:02.816647Z",
     "shell.execute_reply": "2023-02-24T01:30:02.815192Z"
    },
    "papermill": {
     "duration": 0.075486,
     "end_time": "2023-02-24T01:30:02.819910",
     "exception": false,
     "start_time": "2023-02-24T01:30:02.744424",
     "status": "completed"
    },
    "tags": []
   },
   "outputs": [
    {
     "data": {
      "text/html": [
       "<div>\n",
       "<style scoped>\n",
       "    .dataframe tbody tr th:only-of-type {\n",
       "        vertical-align: middle;\n",
       "    }\n",
       "\n",
       "    .dataframe tbody tr th {\n",
       "        vertical-align: top;\n",
       "    }\n",
       "\n",
       "    .dataframe thead th {\n",
       "        text-align: right;\n",
       "    }\n",
       "</style>\n",
       "<table border=\"1\" class=\"dataframe\">\n",
       "  <thead>\n",
       "    <tr style=\"text-align: right;\">\n",
       "      <th></th>\n",
       "      <th>child_id</th>\n",
       "      <th>data_year</th>\n",
       "      <th>child_date</th>\n",
       "      <th>child_age</th>\n",
       "      <th>child_enrolment_date</th>\n",
       "      <th>child_months_enrolment</th>\n",
       "      <th>child_grant</th>\n",
       "      <th>child_years_in_programme</th>\n",
       "      <th>child_height</th>\n",
       "      <th>child_observe_attentive</th>\n",
       "      <th>...</th>\n",
       "      <th>obs_cooking_5</th>\n",
       "      <th>obs_cooking_6</th>\n",
       "      <th>obs_heating_1</th>\n",
       "      <th>obs_heating_2</th>\n",
       "      <th>obs_heating_3</th>\n",
       "      <th>obs_heating_4</th>\n",
       "      <th>obs_heating_5</th>\n",
       "      <th>obs_heating_6</th>\n",
       "      <th>obs_heating_7</th>\n",
       "      <th>target</th>\n",
       "    </tr>\n",
       "  </thead>\n",
       "  <tbody>\n",
       "    <tr>\n",
       "      <th>3712</th>\n",
       "      <td>ID_BF6S3NLQU</td>\n",
       "      <td>2022.0</td>\n",
       "      <td>2022-03-09</td>\n",
       "      <td>67.0</td>\n",
       "      <td>NaN</td>\n",
       "      <td>NaN</td>\n",
       "      <td>NaN</td>\n",
       "      <td>NaN</td>\n",
       "      <td>104.0</td>\n",
       "      <td>Sometimes</td>\n",
       "      <td>...</td>\n",
       "      <td>NaN</td>\n",
       "      <td>NaN</td>\n",
       "      <td>NaN</td>\n",
       "      <td>NaN</td>\n",
       "      <td>NaN</td>\n",
       "      <td>NaN</td>\n",
       "      <td>NaN</td>\n",
       "      <td>NaN</td>\n",
       "      <td>NaN</td>\n",
       "      <td>52.349998</td>\n",
       "    </tr>\n",
       "    <tr>\n",
       "      <th>7304</th>\n",
       "      <td>ID_K8AL6R9AL</td>\n",
       "      <td>2021.0</td>\n",
       "      <td>2021-11-10</td>\n",
       "      <td>53.0</td>\n",
       "      <td>2021-02-15</td>\n",
       "      <td>8.0</td>\n",
       "      <td>Yes</td>\n",
       "      <td>1st year in the programme</td>\n",
       "      <td>101.0</td>\n",
       "      <td>Often</td>\n",
       "      <td>...</td>\n",
       "      <td>0.0</td>\n",
       "      <td>0.0</td>\n",
       "      <td>0.0</td>\n",
       "      <td>1.0</td>\n",
       "      <td>0.0</td>\n",
       "      <td>0.0</td>\n",
       "      <td>0.0</td>\n",
       "      <td>0.0</td>\n",
       "      <td>0.0</td>\n",
       "      <td>41.590000</td>\n",
       "    </tr>\n",
       "    <tr>\n",
       "      <th>4946</th>\n",
       "      <td>ID_XHQR2W3RF</td>\n",
       "      <td>2022.0</td>\n",
       "      <td>2022-03-14</td>\n",
       "      <td>67.0</td>\n",
       "      <td>NaN</td>\n",
       "      <td>NaN</td>\n",
       "      <td>No</td>\n",
       "      <td>NaN</td>\n",
       "      <td>110.0</td>\n",
       "      <td>Often</td>\n",
       "      <td>...</td>\n",
       "      <td>NaN</td>\n",
       "      <td>NaN</td>\n",
       "      <td>NaN</td>\n",
       "      <td>NaN</td>\n",
       "      <td>NaN</td>\n",
       "      <td>NaN</td>\n",
       "      <td>NaN</td>\n",
       "      <td>NaN</td>\n",
       "      <td>NaN</td>\n",
       "      <td>64.500000</td>\n",
       "    </tr>\n",
       "  </tbody>\n",
       "</table>\n",
       "<p>3 rows × 679 columns</p>\n",
       "</div>"
      ],
      "text/plain": [
       "          child_id  data_year  child_date  child_age child_enrolment_date  \\\n",
       "3712  ID_BF6S3NLQU     2022.0  2022-03-09       67.0                  NaN   \n",
       "7304  ID_K8AL6R9AL     2021.0  2021-11-10       53.0           2021-02-15   \n",
       "4946  ID_XHQR2W3RF     2022.0  2022-03-14       67.0                  NaN   \n",
       "\n",
       "      child_months_enrolment child_grant   child_years_in_programme  \\\n",
       "3712                     NaN         NaN                        NaN   \n",
       "7304                     8.0         Yes  1st year in the programme   \n",
       "4946                     NaN          No                        NaN   \n",
       "\n",
       "      child_height child_observe_attentive  ... obs_cooking_5 obs_cooking_6  \\\n",
       "3712         104.0               Sometimes  ...           NaN           NaN   \n",
       "7304         101.0                   Often  ...           0.0           0.0   \n",
       "4946         110.0                   Often  ...           NaN           NaN   \n",
       "\n",
       "     obs_heating_1  obs_heating_2 obs_heating_3 obs_heating_4  obs_heating_5  \\\n",
       "3712           NaN            NaN           NaN           NaN            NaN   \n",
       "7304           0.0            1.0           0.0           0.0            0.0   \n",
       "4946           NaN            NaN           NaN           NaN            NaN   \n",
       "\n",
       "     obs_heating_6 obs_heating_7     target  \n",
       "3712           NaN           NaN  52.349998  \n",
       "7304           0.0           0.0  41.590000  \n",
       "4946           NaN           NaN  64.500000  \n",
       "\n",
       "[3 rows x 679 columns]"
      ]
     },
     "execution_count": 99,
     "metadata": {},
     "output_type": "execute_result"
    }
   ],
   "source": [
    "Train.sample(3)"
   ]
  },
  {
   "attachments": {},
   "cell_type": "markdown",
   "id": "45c12094",
   "metadata": {},
   "source": [
    "Datasets shape"
   ]
  },
  {
   "cell_type": "code",
   "execution_count": 100,
   "id": "aba7446f",
   "metadata": {},
   "outputs": [
    {
     "name": "stdout",
     "output_type": "stream",
     "text": [
      "Train set shape: (8585, 679)\n",
      "Test set shape: (3680, 678)\n"
     ]
    }
   ],
   "source": [
    "print('Train set shape:', Train.shape)\n",
    "print('Test set shape:', Test.shape)"
   ]
  },
  {
   "attachments": {},
   "cell_type": "markdown",
   "id": "fc053cac",
   "metadata": {},
   "source": [
    "Missing values analysis"
   ]
  },
  {
   "cell_type": "code",
   "execution_count": 101,
   "id": "f7bf4596",
   "metadata": {
    "execution": {
     "iopub.execute_input": "2023-02-24T01:30:02.836368Z",
     "iopub.status.busy": "2023-02-24T01:30:02.835899Z",
     "iopub.status.idle": "2023-02-24T01:30:03.038861Z",
     "shell.execute_reply": "2023-02-24T01:30:03.037578Z"
    },
    "papermill": {
     "duration": 0.214719,
     "end_time": "2023-02-24T01:30:03.041950",
     "exception": false,
     "start_time": "2023-02-24T01:30:02.827231",
     "status": "completed"
    },
    "tags": []
   },
   "outputs": [
    {
     "data": {
      "text/plain": [
       "child_id                   0.000000\n",
       "pre_covid                  0.000000\n",
       "sef_ind                    0.000000\n",
       "language_assessment        0.000000\n",
       "hle_ind                    0.000000\n",
       "                            ...    \n",
       "pra_class_space_small     99.895166\n",
       "pri_founderother          99.906814\n",
       "pri_clinic_travelother    99.941759\n",
       "pri_locationother         99.941759\n",
       "other_practitioner        99.953407\n",
       "Length: 679, dtype: float64"
      ]
     },
     "execution_count": 101,
     "metadata": {},
     "output_type": "execute_result"
    }
   ],
   "source": [
    "missing_values_train = Train.isnull().sum() / Train.shape[0] * 100\n",
    "missing_values_train.sort_values()"
   ]
  },
  {
   "cell_type": "code",
   "execution_count": 102,
   "id": "d53eef45",
   "metadata": {
    "execution": {
     "iopub.execute_input": "2023-02-24T01:30:03.058603Z",
     "iopub.status.busy": "2023-02-24T01:30:03.058118Z",
     "iopub.status.idle": "2023-02-24T01:30:03.151772Z",
     "shell.execute_reply": "2023-02-24T01:30:03.150259Z"
    },
    "papermill": {
     "duration": 0.10514,
     "end_time": "2023-02-24T01:30:03.154687",
     "exception": false,
     "start_time": "2023-02-24T01:30:03.049547",
     "status": "completed"
    },
    "tags": []
   },
   "outputs": [
    {
     "data": {
      "text/plain": [
       "child_id                    0.000000\n",
       "pre_covid                   0.000000\n",
       "child_age_group             0.000000\n",
       "sef_ind                     0.000000\n",
       "hle_ind                     0.000000\n",
       "                             ...    \n",
       "pri_clinic_travelother     99.918478\n",
       "positionotherreason        99.918478\n",
       "positionother              99.918478\n",
       "pri_locationother          99.972826\n",
       "other_practitioner        100.000000\n",
       "Length: 678, dtype: float64"
      ]
     },
     "execution_count": 102,
     "metadata": {},
     "output_type": "execute_result"
    }
   ],
   "source": [
    "missing_values_test = Test.isnull().sum() / Test.shape[0] * 100\n",
    "missing_values_test.sort_values()"
   ]
  },
  {
   "attachments": {},
   "cell_type": "markdown",
   "id": "99f49a88",
   "metadata": {},
   "source": [
    "Sample submission visualization"
   ]
  },
  {
   "cell_type": "code",
   "execution_count": 103,
   "id": "49e48070",
   "metadata": {
    "execution": {
     "iopub.execute_input": "2023-02-24T01:30:03.171528Z",
     "iopub.status.busy": "2023-02-24T01:30:03.171061Z",
     "iopub.status.idle": "2023-02-24T01:30:03.199506Z",
     "shell.execute_reply": "2023-02-24T01:30:03.198130Z"
    },
    "papermill": {
     "duration": 0.040358,
     "end_time": "2023-02-24T01:30:03.202548",
     "exception": false,
     "start_time": "2023-02-24T01:30:03.162190",
     "status": "completed"
    },
    "tags": []
   },
   "outputs": [
    {
     "data": {
      "text/html": [
       "<div>\n",
       "<style scoped>\n",
       "    .dataframe tbody tr th:only-of-type {\n",
       "        vertical-align: middle;\n",
       "    }\n",
       "\n",
       "    .dataframe tbody tr th {\n",
       "        vertical-align: top;\n",
       "    }\n",
       "\n",
       "    .dataframe thead th {\n",
       "        text-align: right;\n",
       "    }\n",
       "</style>\n",
       "<table border=\"1\" class=\"dataframe\">\n",
       "  <thead>\n",
       "    <tr style=\"text-align: right;\">\n",
       "      <th></th>\n",
       "      <th>child_id</th>\n",
       "      <th>target</th>\n",
       "      <th>feature_1</th>\n",
       "      <th>feature_2</th>\n",
       "      <th>feature_3</th>\n",
       "      <th>feature_4</th>\n",
       "      <th>feature_5</th>\n",
       "      <th>feature_6</th>\n",
       "      <th>feature_7</th>\n",
       "      <th>feature_8</th>\n",
       "      <th>feature_9</th>\n",
       "      <th>feature_10</th>\n",
       "      <th>feature_11</th>\n",
       "      <th>feature_12</th>\n",
       "      <th>feature_13</th>\n",
       "      <th>feature_14</th>\n",
       "      <th>feature_15</th>\n",
       "    </tr>\n",
       "  </thead>\n",
       "  <tbody>\n",
       "    <tr>\n",
       "      <th>0</th>\n",
       "      <td>ID_0I0999N6S</td>\n",
       "      <td>0</td>\n",
       "      <td>feature</td>\n",
       "      <td>feature</td>\n",
       "      <td>feature</td>\n",
       "      <td>feature</td>\n",
       "      <td>feature</td>\n",
       "      <td>feature</td>\n",
       "      <td>feature</td>\n",
       "      <td>feature</td>\n",
       "      <td>feature</td>\n",
       "      <td>feature</td>\n",
       "      <td>feature</td>\n",
       "      <td>feature</td>\n",
       "      <td>feature</td>\n",
       "      <td>feature</td>\n",
       "      <td>feature</td>\n",
       "    </tr>\n",
       "    <tr>\n",
       "      <th>1</th>\n",
       "      <td>ID_GQ6ONJ4FP</td>\n",
       "      <td>0</td>\n",
       "      <td>feature</td>\n",
       "      <td>feature</td>\n",
       "      <td>feature</td>\n",
       "      <td>feature</td>\n",
       "      <td>feature</td>\n",
       "      <td>feature</td>\n",
       "      <td>feature</td>\n",
       "      <td>feature</td>\n",
       "      <td>feature</td>\n",
       "      <td>feature</td>\n",
       "      <td>feature</td>\n",
       "      <td>feature</td>\n",
       "      <td>feature</td>\n",
       "      <td>feature</td>\n",
       "      <td>feature</td>\n",
       "    </tr>\n",
       "    <tr>\n",
       "      <th>2</th>\n",
       "      <td>ID_YZ76CVRW3</td>\n",
       "      <td>0</td>\n",
       "      <td>feature</td>\n",
       "      <td>feature</td>\n",
       "      <td>feature</td>\n",
       "      <td>feature</td>\n",
       "      <td>feature</td>\n",
       "      <td>feature</td>\n",
       "      <td>feature</td>\n",
       "      <td>feature</td>\n",
       "      <td>feature</td>\n",
       "      <td>feature</td>\n",
       "      <td>feature</td>\n",
       "      <td>feature</td>\n",
       "      <td>feature</td>\n",
       "      <td>feature</td>\n",
       "      <td>feature</td>\n",
       "    </tr>\n",
       "    <tr>\n",
       "      <th>3</th>\n",
       "      <td>ID_BNINCRXH8</td>\n",
       "      <td>0</td>\n",
       "      <td>feature</td>\n",
       "      <td>feature</td>\n",
       "      <td>feature</td>\n",
       "      <td>feature</td>\n",
       "      <td>feature</td>\n",
       "      <td>feature</td>\n",
       "      <td>feature</td>\n",
       "      <td>feature</td>\n",
       "      <td>feature</td>\n",
       "      <td>feature</td>\n",
       "      <td>feature</td>\n",
       "      <td>feature</td>\n",
       "      <td>feature</td>\n",
       "      <td>feature</td>\n",
       "      <td>feature</td>\n",
       "    </tr>\n",
       "    <tr>\n",
       "      <th>4</th>\n",
       "      <td>ID_1U7GDTLRI</td>\n",
       "      <td>0</td>\n",
       "      <td>feature</td>\n",
       "      <td>feature</td>\n",
       "      <td>feature</td>\n",
       "      <td>feature</td>\n",
       "      <td>feature</td>\n",
       "      <td>feature</td>\n",
       "      <td>feature</td>\n",
       "      <td>feature</td>\n",
       "      <td>feature</td>\n",
       "      <td>feature</td>\n",
       "      <td>feature</td>\n",
       "      <td>feature</td>\n",
       "      <td>feature</td>\n",
       "      <td>feature</td>\n",
       "      <td>feature</td>\n",
       "    </tr>\n",
       "  </tbody>\n",
       "</table>\n",
       "</div>"
      ],
      "text/plain": [
       "       child_id  target feature_1 feature_2 feature_3 feature_4 feature_5  \\\n",
       "0  ID_0I0999N6S       0   feature   feature   feature   feature   feature   \n",
       "1  ID_GQ6ONJ4FP       0   feature   feature   feature   feature   feature   \n",
       "2  ID_YZ76CVRW3       0   feature   feature   feature   feature   feature   \n",
       "3  ID_BNINCRXH8       0   feature   feature   feature   feature   feature   \n",
       "4  ID_1U7GDTLRI       0   feature   feature   feature   feature   feature   \n",
       "\n",
       "  feature_6 feature_7 feature_8 feature_9 feature_10 feature_11 feature_12  \\\n",
       "0   feature   feature   feature   feature    feature    feature    feature   \n",
       "1   feature   feature   feature   feature    feature    feature    feature   \n",
       "2   feature   feature   feature   feature    feature    feature    feature   \n",
       "3   feature   feature   feature   feature    feature    feature    feature   \n",
       "4   feature   feature   feature   feature    feature    feature    feature   \n",
       "\n",
       "  feature_13 feature_14 feature_15  \n",
       "0    feature    feature    feature  \n",
       "1    feature    feature    feature  \n",
       "2    feature    feature    feature  \n",
       "3    feature    feature    feature  \n",
       "4    feature    feature    feature  "
      ]
     },
     "execution_count": 103,
     "metadata": {},
     "output_type": "execute_result"
    }
   ],
   "source": [
    "SampleSubmission.head()"
   ]
  },
  {
   "attachments": {},
   "cell_type": "markdown",
   "id": "8f4f554f",
   "metadata": {},
   "source": [
    "Variables description"
   ]
  },
  {
   "cell_type": "code",
   "execution_count": 104,
   "id": "85fa0501",
   "metadata": {
    "execution": {
     "iopub.execute_input": "2023-02-24T01:30:03.220383Z",
     "iopub.status.busy": "2023-02-24T01:30:03.219859Z",
     "iopub.status.idle": "2023-02-24T01:30:03.235208Z",
     "shell.execute_reply": "2023-02-24T01:30:03.233881Z"
    },
    "papermill": {
     "duration": 0.027859,
     "end_time": "2023-02-24T01:30:03.238207",
     "exception": false,
     "start_time": "2023-02-24T01:30:03.210348",
     "status": "completed"
    },
    "tags": []
   },
   "outputs": [
    {
     "data": {
      "text/html": [
       "<div>\n",
       "<style scoped>\n",
       "    .dataframe tbody tr th:only-of-type {\n",
       "        vertical-align: middle;\n",
       "    }\n",
       "\n",
       "    .dataframe tbody tr th {\n",
       "        vertical-align: top;\n",
       "    }\n",
       "\n",
       "    .dataframe thead th {\n",
       "        text-align: right;\n",
       "    }\n",
       "</style>\n",
       "<table border=\"1\" class=\"dataframe\">\n",
       "  <thead>\n",
       "    <tr style=\"text-align: right;\">\n",
       "      <th></th>\n",
       "      <th>Variable Name</th>\n",
       "      <th>Variable Label</th>\n",
       "      <th>Answer Label</th>\n",
       "    </tr>\n",
       "  </thead>\n",
       "  <tbody>\n",
       "    <tr>\n",
       "      <th>0</th>\n",
       "      <td>child_id</td>\n",
       "      <td>Unique child ID</td>\n",
       "      <td>Open ended</td>\n",
       "    </tr>\n",
       "    <tr>\n",
       "      <th>1</th>\n",
       "      <td>data_year</td>\n",
       "      <td>Year data was collected</td>\n",
       "      <td>Open ended</td>\n",
       "    </tr>\n",
       "    <tr>\n",
       "      <th>2</th>\n",
       "      <td>child_date</td>\n",
       "      <td>ELOM date</td>\n",
       "      <td>Open ended</td>\n",
       "    </tr>\n",
       "    <tr>\n",
       "      <th>3</th>\n",
       "      <td>child_age</td>\n",
       "      <td>Child age in months</td>\n",
       "      <td>Open ended</td>\n",
       "    </tr>\n",
       "    <tr>\n",
       "      <th>4</th>\n",
       "      <td>child_enrolment_date</td>\n",
       "      <td>Date enrolled in ELP</td>\n",
       "      <td>Open ended</td>\n",
       "    </tr>\n",
       "    <tr>\n",
       "      <th>...</th>\n",
       "      <td>...</td>\n",
       "      <td>...</td>\n",
       "      <td>...</td>\n",
       "    </tr>\n",
       "    <tr>\n",
       "      <th>676</th>\n",
       "      <td>child_attends</td>\n",
       "      <td>Does child attend an ECD programme?</td>\n",
       "      <td>NaN</td>\n",
       "    </tr>\n",
       "    <tr>\n",
       "      <th>677</th>\n",
       "      <td>child_attendance</td>\n",
       "      <td>How many days per week does the child attend t...</td>\n",
       "      <td>NaN</td>\n",
       "    </tr>\n",
       "    <tr>\n",
       "      <th>678</th>\n",
       "      <td>child_languages</td>\n",
       "      <td>Child home language(s)</td>\n",
       "      <td>NaN</td>\n",
       "    </tr>\n",
       "    <tr>\n",
       "      <th>679</th>\n",
       "      <td>pri_fees_amount_pv</td>\n",
       "      <td>Facility monthly fee (present value)</td>\n",
       "      <td>NaN</td>\n",
       "    </tr>\n",
       "    <tr>\n",
       "      <th>680</th>\n",
       "      <td>pri_languages</td>\n",
       "      <td>Main language(s) of learning and teaching?</td>\n",
       "      <td>NaN</td>\n",
       "    </tr>\n",
       "  </tbody>\n",
       "</table>\n",
       "<p>681 rows × 3 columns</p>\n",
       "</div>"
      ],
      "text/plain": [
       "            Variable Name                                     Variable Label  \\\n",
       "0                child_id                                    Unique child ID   \n",
       "1               data_year                            Year data was collected   \n",
       "2              child_date                                          ELOM date   \n",
       "3               child_age                                Child age in months   \n",
       "4    child_enrolment_date                               Date enrolled in ELP   \n",
       "..                    ...                                                ...   \n",
       "676         child_attends                Does child attend an ECD programme?   \n",
       "677      child_attendance  How many days per week does the child attend t...   \n",
       "678       child_languages                             Child home language(s)   \n",
       "679    pri_fees_amount_pv               Facility monthly fee (present value)   \n",
       "680         pri_languages         Main language(s) of learning and teaching?   \n",
       "\n",
       "    Answer Label  \n",
       "0     Open ended  \n",
       "1     Open ended  \n",
       "2     Open ended  \n",
       "3     Open ended  \n",
       "4     Open ended  \n",
       "..           ...  \n",
       "676          NaN  \n",
       "677          NaN  \n",
       "678          NaN  \n",
       "679          NaN  \n",
       "680          NaN  \n",
       "\n",
       "[681 rows x 3 columns]"
      ]
     },
     "execution_count": 104,
     "metadata": {},
     "output_type": "execute_result"
    }
   ],
   "source": [
    "VariableDescription"
   ]
  },
  {
   "attachments": {},
   "cell_type": "markdown",
   "id": "815942b4",
   "metadata": {},
   "source": [
    "Unique ID and target"
   ]
  },
  {
   "cell_type": "code",
   "execution_count": 83,
   "id": "196d8463",
   "metadata": {},
   "outputs": [],
   "source": [
    "ID = 'child_id'\n",
    "TARGET = 'target'"
   ]
  },
  {
   "attachments": {},
   "cell_type": "markdown",
   "id": "73e1edda",
   "metadata": {},
   "source": [
    "## Preprocessing"
   ]
  },
  {
   "attachments": {},
   "cell_type": "markdown",
   "id": "4db41705",
   "metadata": {},
   "source": [
    "Useful features research "
   ]
  },
  {
   "cell_type": "code",
   "execution_count": 84,
   "id": "ae5bec54",
   "metadata": {
    "execution": {
     "iopub.execute_input": "2023-02-24T01:30:03.256262Z",
     "iopub.status.busy": "2023-02-24T01:30:03.255784Z",
     "iopub.status.idle": "2023-02-24T01:30:03.836748Z",
     "shell.execute_reply": "2023-02-24T01:30:03.834610Z"
    },
    "papermill": {
     "duration": 0.594153,
     "end_time": "2023-02-24T01:30:03.840533",
     "exception": false,
     "start_time": "2023-02-24T01:30:03.246380",
     "status": "completed"
    },
    "tags": []
   },
   "outputs": [
    {
     "name": "stdout",
     "output_type": "stream",
     "text": [
      "There are 254 classes in: child_date\n",
      "There are 535 classes in: child_enrolment_date\n",
      "There are 4 classes in: child_grant\n",
      "There are 4 classes in: child_years_in_programme\n",
      "There are 4 classes in: child_observe_attentive\n",
      "There are 4 classes in: child_observe_concentrated\n",
      "There are 4 classes in: child_observe_diligent\n",
      "There are 4 classes in: child_observe_interested\n",
      "There are 2 classes in: child_gender\n",
      "There are 1018 classes in: child_dob\n",
      "There are 3 classes in: child_stunted\n",
      "There are 4 classes in: child_age_group\n",
      "There are 153 classes in: id_mn_best\n",
      "There are 10 classes in: prov_best\n",
      "There are 50 classes in: id_dc_best\n",
      "There are 50 classes in: dc_best\n",
      "There are 153 classes in: mn_best\n",
      "There are 5 classes in: pra_free_play\n",
      "There are 4 classes in: pra_free_play_outdoor\n",
      "There are 31 classes in: pra_groupings\n",
      "There are 2 classes in: pra_groupings_1\n",
      "There are 2 classes in: pra_groupings_2\n",
      "There are 2 classes in: pra_groupings_3\n",
      "There are 2 classes in: pra_groupings_4\n",
      "There are 2 classes in: pra_groupings_5\n",
      "There are 3 classes in: pra_engaged\n",
      "There are 4 classes in: pra_agency_choice\n",
      "There are 4 classes in: pra_agency_explore\n",
      "There are 4 classes in: pra_agency_questions\n",
      "There are 4 classes in: pra_agency_understand\n",
      "There are 4 classes in: pra_agency_play\n",
      "There are 4 classes in: pra_agency_learn\n",
      "There are 4 classes in: pra_agency_order\n",
      "There are 8 classes in: pra_plans\n",
      "There are 2 classes in: pra_plans_1\n",
      "There are 2 classes in: pra_plans_2\n",
      "There are 2 classes in: pra_plans_3\n",
      "There are 2 classes in: pra_plans_0\n",
      "There are 2 classes in: pra_ind\n",
      "There are 2 classes in: pri_mobile\n",
      "There are 2 classes in: pri_school\n",
      "There are 2 classes in: pri_holidays\n",
      "There are 15 classes in: pri_calc_time_open\n",
      "There are 27 classes in: pri_calc_time_close\n",
      "There are 3 classes in: pri_separate\n",
      "There are 64 classes in: pri_language\n",
      "There are 2 classes in: pri_language_1\n",
      "There are 2 classes in: pri_language_2\n",
      "There are 2 classes in: pri_language_3\n",
      "There are 2 classes in: pri_language_4\n",
      "There are 2 classes in: pri_language_5\n",
      "There are 2 classes in: pri_language_6\n",
      "There are 2 classes in: pri_language_7\n",
      "There are 2 classes in: pri_language_8\n",
      "There are 2 classes in: pri_language_9\n",
      "There are 2 classes in: pri_language_10\n",
      "There are 2 classes in: pri_language_11\n",
      "There are 2 classes in: pri_language_97\n",
      "There are 1 classes in: pri_toys\n",
      "There are 2 classes in: pri_aftercare\n",
      "There are 2 classes in: pri_fees\n",
      "There are 2 classes in: pri_fees_free\n",
      "There are 11 classes in: pri_facilities\n",
      "There are 12 classes in: pri_land\n",
      "There are 3 classes in: pri_bank\n",
      "There are 2 classes in: pri_transport\n",
      "There are 26 classes in: pri_meal\n",
      "There are 2 classes in: pri_meal_1\n",
      "There are 2 classes in: pri_meal_3\n",
      "There are 2 classes in: pri_meal_4\n",
      "There are 2 classes in: pri_meal_2\n",
      "There are 5 classes in: pri_registered_partial\n",
      "There are 5 classes in: pri_registered_programme\n",
      "There are 2 classes in: pri_registered_npo\n",
      "There are 5 classes in: pri_registered_dsd\n",
      "There are 2 classes in: pri_subsidy\n",
      "There are 2 classes in: pri_network\n",
      "There are 2 classes in: pri_attendance_usual\n",
      "There are 2 classes in: pri_precovid_attendance\n",
      "There are 3 classes in: pri_kitchen\n",
      "There are 2 classes in: pri_funding_6\n",
      "There are 2 classes in: pri_funding_7\n",
      "There are 2 classes in: pri_funding_donations\n",
      "There are 2 classes in: pri_funding_97\n",
      "There are 5 classes in: pri_attendance\n",
      "There are 2 classes in: pri_meals\n",
      "There are 4 classes in: teacher_social_peers\n",
      "There are 4 classes in: teacher_social_nonaggressive\n",
      "There are 4 classes in: teacher_social_cooperate\n",
      "There are 4 classes in: teacher_social_assistance\n",
      "There are 4 classes in: teacher_social_ideas\n",
      "There are 4 classes in: teacher_social_initiative\n",
      "There are 3 classes in: teacher_emotional_understand\n",
      "There are 3 classes in: teacher_emotional_appropriate\n",
      "There are 3 classes in: teacher_emotional_independent\n",
      "There are 3 classes in: teacher_emotional_adjust\n",
      "There are 3 classes in: teacher_emotional_confidence\n",
      "There are 3 classes in: teacher_emotional_selfstarter\n",
      "There are 2 classes in: teacher_social_met\n",
      "There are 2 classes in: teacher_emotional_met\n",
      "There are 2 classes in: teacher_selfcare_met\n",
      "There are 2 classes in: hle_ind\n",
      "There are 2 classes in: obs_firstaid\n",
      "There are 2 classes in: obs_space\n",
      "There are 167 classes in: obs_area\n",
      "There are 2 classes in: obs_area_1\n",
      "There are 2 classes in: obs_area_2\n",
      "There are 2 classes in: obs_area_3\n",
      "There are 2 classes in: obs_area_4\n",
      "There are 2 classes in: obs_area_5\n",
      "There are 2 classes in: obs_area_6\n",
      "There are 2 classes in: obs_area_7\n",
      "There are 2 classes in: obs_area_8\n",
      "There are 2 classes in: obs_area_0\n",
      "There are 1107 classes in: obs_materials\n",
      "There are 2 classes in: obs_materials_1\n",
      "There are 2 classes in: obs_materials_2\n",
      "There are 2 classes in: obs_materials_3\n",
      "There are 2 classes in: obs_materials_4\n",
      "There are 2 classes in: obs_materials_5\n",
      "There are 2 classes in: obs_materials_6\n",
      "There are 2 classes in: obs_materials_7\n",
      "There are 2 classes in: obs_materials_8\n",
      "There are 2 classes in: obs_materials_9\n",
      "There are 2 classes in: obs_materials_10\n",
      "There are 2 classes in: obs_materials_11\n",
      "There are 2 classes in: obs_materials_12\n",
      "There are 2 classes in: obs_materials_13\n",
      "There are 2 classes in: obs_materials_14\n",
      "There are 2 classes in: obs_materials_15\n",
      "There are 2 classes in: obs_materials_16\n",
      "There are 2 classes in: obs_materials_17\n",
      "There are 2 classes in: obs_materials_18\n",
      "There are 2 classes in: obs_materials_19\n",
      "There are 2 classes in: obs_materials_20\n",
      "There are 2 classes in: obs_materials_97\n",
      "There are 2 classes in: obs_materials_0\n",
      "There are 2 classes in: obs_accessible\n",
      "There are 2 classes in: obs_books\n",
      "There are 2 classes in: obs_books_age\n",
      "There are 7 classes in: obs_heating_census\n",
      "There are 7 classes in: obs_lighting_census\n",
      "There are 6 classes in: obs_cooking_census\n",
      "There are 7 classes in: obs_water\n",
      "There are 2 classes in: obs_potable\n",
      "There are 15 classes in: obs_handwashing\n",
      "There are 2 classes in: obs_handwashing_1\n",
      "There are 2 classes in: obs_handwashing_2\n",
      "There are 2 classes in: obs_handwashing_3\n",
      "There are 2 classes in: obs_handwashing_0\n",
      "There are 2 classes in: obs_handwashing_97\n",
      "There are 46 classes in: obs_toilet\n",
      "There are 2 classes in: obs_toilet_1\n",
      "There are 2 classes in: obs_toilet_2\n",
      "There are 2 classes in: obs_toilet_3\n",
      "There are 2 classes in: obs_toilet_4\n",
      "There are 2 classes in: obs_toilet_5\n",
      "There are 2 classes in: obs_toilet_6\n",
      "There are 2 classes in: obs_toilet_7\n",
      "There are 2 classes in: obs_toilet_8\n",
      "There are 2 classes in: obs_toilet_0\n",
      "There are 2 classes in: obs_toilet_97\n",
      "There are 2 classes in: obs_toilets_children\n",
      "There are 2 classes in: obs_toilets_gender\n",
      "There are 5 classes in: obs_building\n",
      "There are 2 classes in: obs_shared\n",
      "There are 2 classes in: obs_outdoor\n",
      "There are 28 classes in: obs_equipment\n",
      "There are 2 classes in: obs_equipment_0\n",
      "There are 2 classes in: obs_equipment_1\n",
      "There are 2 classes in: obs_equipment_2\n",
      "There are 2 classes in: obs_equipment_3\n",
      "There are 2 classes in: obs_equipment_4\n",
      "There are 2 classes in: obs_equipment_5\n",
      "There are 2 classes in: obs_equipment__1\n",
      "There are 4 classes in: obs_condition_equipment\n",
      "There are 2 classes in: obs_fence\n",
      "There are 2 classes in: obs_gate\n",
      "There are 2 classes in: obs_access\n",
      "There are 2 classes in: obs_water_running\n",
      "There are 9 classes in: id_prov\n",
      "There are 3 classes in: grade_r\n",
      "There are 2 classes in: professionals_practitioners\n",
      "There are 3 classes in: certificate_registration_partial\n",
      "There are 3 classes in: certificate_registration_program\n",
      "There are 3 classes in: certificate_registration_npo\n",
      "There are 3 classes in: certificate_register\n",
      "There are 2 classes in: census\n",
      "There are 2 classes in: urban\n",
      "There are 4 classes in: phase_natemis\n",
      "There are 12 classes in: language_child\n",
      "There are 13 classes in: language_assessment\n",
      "There are 4 classes in: facility_type\n",
      "There are 2 classes in: sef_ind\n",
      "There are 2 classes in: elp_ind\n",
      "There are 2 classes in: gps_ind\n",
      "There are 2 classes in: pre_covid\n",
      "There are 2 classes in: quintile_used\n",
      "There are 5 classes in: ses_cat\n",
      "----------------------------------\n",
      "We have 277 features\n",
      "We have 199 categorical features\n",
      "We have 401 features that have more than 6000 of missing values\n"
     ]
    }
   ],
   "source": [
    "features = []\n",
    "cat_features = []\n",
    "not_features = []\n",
    "for column in Train.columns[1:]:\n",
    "    if Train[column].isnull().sum() < 6000:\n",
    "        features.append(column)\n",
    "        if Train[column].dtype == 'O':\n",
    "            cat_features.append(column)\n",
    "            print(\n",
    "                f'There are {len(Train[column].value_counts())} classes in: {column}')\n",
    "    else:\n",
    "        not_features.append(column)\n",
    "\n",
    "print('----------------------------------')\n",
    "print(f'We have {len(features)} features')\n",
    "print(f'We have {len(cat_features)} categorical features')\n",
    "print(\n",
    "    f'We have {len(not_features)} features that have more than 6000 of missing values')\n"
   ]
  },
  {
   "cell_type": "code",
   "execution_count": 85,
   "id": "2f96abe1",
   "metadata": {
    "execution": {
     "iopub.execute_input": "2023-02-24T01:30:03.859621Z",
     "iopub.status.busy": "2023-02-24T01:30:03.859176Z",
     "iopub.status.idle": "2023-02-24T01:30:03.913641Z",
     "shell.execute_reply": "2023-02-24T01:30:03.912325Z"
    },
    "papermill": {
     "duration": 0.067596,
     "end_time": "2023-02-24T01:30:03.916805",
     "exception": false,
     "start_time": "2023-02-24T01:30:03.849209",
     "status": "completed"
    },
    "tags": []
   },
   "outputs": [
    {
     "name": "stderr",
     "output_type": "stream",
     "text": [
      "\n",
      "A value is trying to be set on a copy of a slice from a DataFrame\n",
      "\n",
      "See the caveats in the documentation: https://pandas.pydata.org/pandas-docs/stable/user_guide/indexing.html#returning-a-view-versus-a-copy\n",
      "\n",
      "A value is trying to be set on a copy of a slice from a DataFrame\n",
      "\n",
      "See the caveats in the documentation: https://pandas.pydata.org/pandas-docs/stable/user_guide/indexing.html#returning-a-view-versus-a-copy\n"
     ]
    },
    {
     "data": {
      "text/plain": [
       "(96.80999755859376, 6.369999885559082)"
      ]
     },
     "execution_count": 85,
     "metadata": {},
     "output_type": "execute_result"
    }
   ],
   "source": [
    "Train_pp = Train[features]\n",
    "Test_pp  = Test[features[:-1]]\n",
    "\n",
    "Train_pp.fillna('', inplace=True)\n",
    "Test_pp.fillna('', inplace=True)\n",
    "\n",
    "max(Train_pp[TARGET]), min(Train_pp[TARGET])"
   ]
  },
  {
   "cell_type": "code",
   "execution_count": 105,
   "id": "4d87c018",
   "metadata": {},
   "outputs": [
    {
     "data": {
      "text/plain": [
       "data_year                   0\n",
       "obs_toilet                  0\n",
       "obs_toilet_1                0\n",
       "obs_toilet_2                0\n",
       "obs_toilet_3                0\n",
       "                           ..\n",
       "pri_registered_npo          0\n",
       "pri_registered_programme    0\n",
       "pri_registered_partial      0\n",
       "pri_capacity                0\n",
       "target                      0\n",
       "Length: 277, dtype: int64"
      ]
     },
     "execution_count": 105,
     "metadata": {},
     "output_type": "execute_result"
    }
   ],
   "source": [
    "Train_pp.isnull().sum().sort_values()"
   ]
  },
  {
   "attachments": {},
   "cell_type": "markdown",
   "id": "dc062662",
   "metadata": {},
   "source": [
    "## Modeling"
   ]
  },
  {
   "attachments": {},
   "cell_type": "markdown",
   "id": "e7cbe464",
   "metadata": {},
   "source": [
    "### Normalization"
   ]
  },
  {
   "cell_type": "code",
   "execution_count": 88,
   "id": "a9403a6a",
   "metadata": {},
   "outputs": [],
   "source": [
    "Train_norm = Train[features]\n",
    "Test_norm  = Test[features[:-1]]"
   ]
  },
  {
   "cell_type": "code",
   "execution_count": null,
   "id": "a4348ca8",
   "metadata": {},
   "outputs": [],
   "source": [
    "# Train_norm.fillna('', inplace=True)\n",
    "# Test_norm.fillna('', inplace=True)"
   ]
  },
  {
   "cell_type": "code",
   "execution_count": 90,
   "id": "b48744b7",
   "metadata": {},
   "outputs": [],
   "source": [
    "encoder = OrdinalEncoder()\n",
    "MMS = MinMaxScaler()\n",
    "object_columns_train = list(Train_norm.select_dtypes(include='object').columns)\n",
    "object_columns_test = list(Test_norm.select_dtypes(include='object').columns)"
   ]
  },
  {
   "cell_type": "code",
   "execution_count": 91,
   "id": "b841da15",
   "metadata": {},
   "outputs": [
    {
     "name": "stderr",
     "output_type": "stream",
     "text": [
      "\n",
      "A value is trying to be set on a copy of a slice from a DataFrame.\n",
      "Try using .loc[row_indexer,col_indexer] = value instead\n",
      "\n",
      "See the caveats in the documentation: https://pandas.pydata.org/pandas-docs/stable/user_guide/indexing.html#returning-a-view-versus-a-copy\n",
      "\n",
      "A value is trying to be set on a copy of a slice from a DataFrame.\n",
      "Try using .loc[row_indexer,col_indexer] = value instead\n",
      "\n",
      "See the caveats in the documentation: https://pandas.pydata.org/pandas-docs/stable/user_guide/indexing.html#returning-a-view-versus-a-copy\n"
     ]
    }
   ],
   "source": [
    "# Train_norm[cat_features] = encoder.fit_transform(Train_norm[cat_features])\n",
    "Train_norm[object_columns_train] = encoder.fit_transform(Train_norm[object_columns_train])\n",
    "Test_norm[object_columns_test] = encoder.fit_transform(Test_norm[object_columns_test])"
   ]
  },
  {
   "cell_type": "code",
   "execution_count": 94,
   "id": "56ae3216",
   "metadata": {},
   "outputs": [
    {
     "data": {
      "text/html": [
       "<div>\n",
       "<style scoped>\n",
       "    .dataframe tbody tr th:only-of-type {\n",
       "        vertical-align: middle;\n",
       "    }\n",
       "\n",
       "    .dataframe tbody tr th {\n",
       "        vertical-align: top;\n",
       "    }\n",
       "\n",
       "    .dataframe thead th {\n",
       "        text-align: right;\n",
       "    }\n",
       "</style>\n",
       "<table border=\"1\" class=\"dataframe\">\n",
       "  <thead>\n",
       "    <tr style=\"text-align: right;\">\n",
       "      <th></th>\n",
       "      <th>data_year</th>\n",
       "      <th>child_date</th>\n",
       "      <th>child_age</th>\n",
       "      <th>child_enrolment_date</th>\n",
       "      <th>child_months_enrolment</th>\n",
       "      <th>child_grant</th>\n",
       "      <th>child_years_in_programme</th>\n",
       "      <th>child_height</th>\n",
       "      <th>child_observe_attentive</th>\n",
       "      <th>child_observe_concentrated</th>\n",
       "      <th>...</th>\n",
       "      <th>gps_ind</th>\n",
       "      <th>pre_covid</th>\n",
       "      <th>ses_proxy</th>\n",
       "      <th>quintile_used</th>\n",
       "      <th>id_facility_n</th>\n",
       "      <th>id_ward_n</th>\n",
       "      <th>id_mn_n</th>\n",
       "      <th>id_dc_n</th>\n",
       "      <th>id_prov_n</th>\n",
       "      <th>ses_cat</th>\n",
       "    </tr>\n",
       "  </thead>\n",
       "  <tbody>\n",
       "    <tr>\n",
       "      <th>71</th>\n",
       "      <td>0.666667</td>\n",
       "      <td>0.116883</td>\n",
       "      <td>0.263694</td>\n",
       "      <td>NaN</td>\n",
       "      <td>NaN</td>\n",
       "      <td>1.0</td>\n",
       "      <td>0.000000</td>\n",
       "      <td>NaN</td>\n",
       "      <td>1.000000</td>\n",
       "      <td>1.0</td>\n",
       "      <td>...</td>\n",
       "      <td>1.0</td>\n",
       "      <td>0.0</td>\n",
       "      <td>0.25</td>\n",
       "      <td>0.0</td>\n",
       "      <td>0.190476</td>\n",
       "      <td>0.367521</td>\n",
       "      <td>0.110035</td>\n",
       "      <td>0.200555</td>\n",
       "      <td>0.384568</td>\n",
       "      <td>0.25</td>\n",
       "    </tr>\n",
       "    <tr>\n",
       "      <th>2896</th>\n",
       "      <td>0.666667</td>\n",
       "      <td>0.125541</td>\n",
       "      <td>0.213550</td>\n",
       "      <td>NaN</td>\n",
       "      <td>NaN</td>\n",
       "      <td>NaN</td>\n",
       "      <td>0.666667</td>\n",
       "      <td>NaN</td>\n",
       "      <td>0.333333</td>\n",
       "      <td>1.0</td>\n",
       "      <td>...</td>\n",
       "      <td>1.0</td>\n",
       "      <td>0.0</td>\n",
       "      <td>0.25</td>\n",
       "      <td>0.0</td>\n",
       "      <td>0.079365</td>\n",
       "      <td>0.170940</td>\n",
       "      <td>0.110035</td>\n",
       "      <td>0.200555</td>\n",
       "      <td>0.384568</td>\n",
       "      <td>0.25</td>\n",
       "    </tr>\n",
       "    <tr>\n",
       "      <th>2643</th>\n",
       "      <td>0.666667</td>\n",
       "      <td>0.402597</td>\n",
       "      <td>0.464271</td>\n",
       "      <td>0.065903</td>\n",
       "      <td>0.789474</td>\n",
       "      <td>1.0</td>\n",
       "      <td>0.666667</td>\n",
       "      <td>0.391068</td>\n",
       "      <td>0.000000</td>\n",
       "      <td>0.0</td>\n",
       "      <td>...</td>\n",
       "      <td>1.0</td>\n",
       "      <td>0.0</td>\n",
       "      <td>0.50</td>\n",
       "      <td>0.0</td>\n",
       "      <td>0.031746</td>\n",
       "      <td>0.256410</td>\n",
       "      <td>0.080277</td>\n",
       "      <td>0.431645</td>\n",
       "      <td>1.000000</td>\n",
       "      <td>0.75</td>\n",
       "    </tr>\n",
       "  </tbody>\n",
       "</table>\n",
       "<p>3 rows × 276 columns</p>\n",
       "</div>"
      ],
      "text/plain": [
       "      data_year  child_date  child_age  child_enrolment_date  \\\n",
       "71     0.666667    0.116883   0.263694                   NaN   \n",
       "2896   0.666667    0.125541   0.213550                   NaN   \n",
       "2643   0.666667    0.402597   0.464271              0.065903   \n",
       "\n",
       "      child_months_enrolment  child_grant  child_years_in_programme  \\\n",
       "71                       NaN          1.0                  0.000000   \n",
       "2896                     NaN          NaN                  0.666667   \n",
       "2643                0.789474          1.0                  0.666667   \n",
       "\n",
       "      child_height  child_observe_attentive  child_observe_concentrated  ...  \\\n",
       "71             NaN                 1.000000                         1.0  ...   \n",
       "2896           NaN                 0.333333                         1.0  ...   \n",
       "2643      0.391068                 0.000000                         0.0  ...   \n",
       "\n",
       "      gps_ind  pre_covid  ses_proxy  quintile_used  id_facility_n  id_ward_n  \\\n",
       "71        1.0        0.0       0.25            0.0       0.190476   0.367521   \n",
       "2896      1.0        0.0       0.25            0.0       0.079365   0.170940   \n",
       "2643      1.0        0.0       0.50            0.0       0.031746   0.256410   \n",
       "\n",
       "       id_mn_n   id_dc_n  id_prov_n  ses_cat  \n",
       "71    0.110035  0.200555   0.384568     0.25  \n",
       "2896  0.110035  0.200555   0.384568     0.25  \n",
       "2643  0.080277  0.431645   1.000000     0.75  \n",
       "\n",
       "[3 rows x 276 columns]"
      ]
     },
     "execution_count": 94,
     "metadata": {},
     "output_type": "execute_result"
    }
   ],
   "source": [
    "Test_norm.sample(3)"
   ]
  },
  {
   "cell_type": "code",
   "execution_count": 93,
   "id": "00523553",
   "metadata": {},
   "outputs": [
    {
     "name": "stderr",
     "output_type": "stream",
     "text": [
      "\n",
      "A value is trying to be set on a copy of a slice from a DataFrame.\n",
      "Try using .loc[row_indexer,col_indexer] = value instead\n",
      "\n",
      "See the caveats in the documentation: https://pandas.pydata.org/pandas-docs/stable/user_guide/indexing.html#returning-a-view-versus-a-copy\n",
      "\n",
      "A value is trying to be set on a copy of a slice from a DataFrame.\n",
      "Try using .loc[row_indexer,col_indexer] = value instead\n",
      "\n",
      "See the caveats in the documentation: https://pandas.pydata.org/pandas-docs/stable/user_guide/indexing.html#returning-a-view-versus-a-copy\n"
     ]
    }
   ],
   "source": [
    "scaler = MMS\n",
    "Train_norm[Train_norm.columns] = scaler.fit_transform(Train_norm)\n",
    "Test_norm[Test_norm.columns] = scaler.fit_transform(Test_norm)"
   ]
  },
  {
   "attachments": {},
   "cell_type": "markdown",
   "id": "d7cf1ae2",
   "metadata": {},
   "source": [
    "### Splitting"
   ]
  },
  {
   "cell_type": "code",
   "execution_count": 95,
   "id": "1e8e8c6a",
   "metadata": {},
   "outputs": [],
   "source": [
    "xtrain_norm, xvalid_norm, ytrain_norm, yvalid_norm = train_test_split(\n",
    "    Train_norm[Train_norm.columns[:-1]],\n",
    "    Train_norm[Train_norm.columns[-1]],\n",
    "    test_size=0.15,\n",
    "    random_state=42,\n",
    "    shuffle=True\n",
    ")"
   ]
  },
  {
   "cell_type": "code",
   "execution_count": 87,
   "id": "c679af33",
   "metadata": {
    "execution": {
     "iopub.execute_input": "2023-02-24T01:30:04.329753Z",
     "iopub.status.busy": "2023-02-24T01:30:04.328428Z",
     "iopub.status.idle": "2023-02-24T01:30:04.548530Z",
     "shell.execute_reply": "2023-02-24T01:30:04.547153Z"
    },
    "papermill": {
     "duration": 0.233627,
     "end_time": "2023-02-24T01:30:04.551806",
     "exception": false,
     "start_time": "2023-02-24T01:30:04.318179",
     "status": "completed"
    },
    "tags": []
   },
   "outputs": [
    {
     "data": {
      "text/plain": [
       "((7297, 276), (1288, 276), (7297,), (1288,))"
      ]
     },
     "execution_count": 87,
     "metadata": {},
     "output_type": "execute_result"
    }
   ],
   "source": [
    "xtrain, xvalid, ytrain, yvalid = train_test_split(\n",
    "    Train_pp[Train_pp.columns[:-1]],\n",
    "    Train_pp[Train_pp.columns[-1]],\n",
    "    test_size=0.15,\n",
    "    random_state=42,\n",
    "    shuffle=True\n",
    ")\n",
    "\n",
    "xtrain.shape, xvalid.shape, ytrain.shape, yvalid.shape"
   ]
  },
  {
   "attachments": {},
   "cell_type": "markdown",
   "id": "ab44771e",
   "metadata": {},
   "source": [
    "### Metric"
   ]
  },
  {
   "cell_type": "code",
   "execution_count": 89,
   "id": "8aedf6db",
   "metadata": {},
   "outputs": [],
   "source": [
    "def rmse(y_test, y_pred) -> float:\n",
    "    ''' calculates the root mean squared error of a model \n",
    "    '''\n",
    "    return mean_squared_error(y_test, y_pred, squared=False)"
   ]
  },
  {
   "attachments": {},
   "cell_type": "markdown",
   "id": "ee6a3574",
   "metadata": {},
   "source": [
    "### CatBoost"
   ]
  },
  {
   "cell_type": "code",
   "execution_count": 88,
   "id": "a1ef37e3",
   "metadata": {},
   "outputs": [
    {
     "name": "stdout",
     "output_type": "stream",
     "text": [
      "0:\tlearn: 14.6142698\ttest: 15.0964155\tbest: 15.0964155 (0)\ttotal: 1.06s\tremaining: 8h 48m 53s\n",
      "300:\tlearn: 8.9822053\ttest: 10.2164290\tbest: 10.2159916 (296)\ttotal: 1m 28s\tremaining: 2h 26m 16s\n",
      "600:\tlearn: 8.1682010\ttest: 9.9856494\tbest: 9.9855140 (599)\ttotal: 3m 5s\tremaining: 2h 31m 36s\n",
      "900:\tlearn: 7.5958007\ttest: 9.9134383\tbest: 9.9132350 (899)\ttotal: 4m 37s\tremaining: 2h 29m 30s\n",
      "1200:\tlearn: 7.1426209\ttest: 9.8500511\tbest: 9.8500511 (1200)\ttotal: 6m 7s\tremaining: 2h 26m 56s\n",
      "1500:\tlearn: 6.7524077\ttest: 9.8216418\tbest: 9.8187530 (1458)\ttotal: 7m 34s\tremaining: 2h 23m 40s\n",
      "1800:\tlearn: 6.3895611\ttest: 9.7910355\tbest: 9.7905310 (1795)\ttotal: 9m\tremaining: 2h 21m 5s\n",
      "2100:\tlearn: 6.0534060\ttest: 9.7750525\tbest: 9.7727602 (2091)\ttotal: 10m 26s\tremaining: 2h 18m 44s\n",
      "2400:\tlearn: 5.7706819\ttest: 9.7689792\tbest: 9.7613182 (2165)\ttotal: 11m 52s\tremaining: 2h 16m 29s\n",
      "2700:\tlearn: 5.5013285\ttest: 9.7449188\tbest: 9.7449188 (2700)\ttotal: 13m 16s\tremaining: 2h 14m 5s\n",
      "3000:\tlearn: 5.2151345\ttest: 9.7376424\tbest: 9.7332034 (2927)\ttotal: 14m 41s\tremaining: 2h 12m 8s\n",
      "3300:\tlearn: 4.9669660\ttest: 9.7298260\tbest: 9.7286499 (3294)\ttotal: 16m 6s\tremaining: 2h 10m 15s\n",
      "3600:\tlearn: 4.7428964\ttest: 9.7320459\tbest: 9.7210437 (3365)\ttotal: 17m 32s\tremaining: 2h 8m 34s\n",
      "Stopped by overfitting detector  (300 iterations wait)\n",
      "\n",
      "bestTest = 9.721043665\n",
      "bestIteration = 3365\n",
      "\n",
      "Shrink model to first 3366 iterations.\n",
      "Unexpected exception formatting exception. Falling back to standard exception\n"
     ]
    },
    {
     "name": "stderr",
     "output_type": "stream",
     "text": [
      "Traceback (most recent call last):\n",
      "  File \"_catboost.pyx\", line 2349, in _catboost.get_cat_factor_bytes_representation\n",
      "  File \"_catboost.pyx\", line 1869, in _catboost.get_id_object_bytes_string_representation\n",
      "_catboost.CatBoostError: bad object for id: nan\n",
      "\n",
      "During handling of the above exception, another exception occurred:\n",
      "\n",
      "Traceback (most recent call last):\n",
      "  File \"C:\\Users\\Juste KOUASSI\\AppData\\Roaming\\Python\\Python310\\site-packages\\IPython\\core\\interactiveshell.py\", line 3460, in run_code\n",
      "    exec(code_obj, self.user_global_ns, self.user_ns)\n",
      "  File \"C:\\Users\\Juste KOUASSI\\AppData\\Local\\Temp\\ipykernel_24696\\3770761726.py\", line 9, in <module>\n",
      "    preds_test = model.predict(xtest)\n",
      "  File \"c:\\Users\\Juste KOUASSI\\AppData\\Local\\Programs\\Python\\Python310\\lib\\site-packages\\catboost\\core.py\", line 5775, in predict\n",
      "    return self._predict(data, prediction_type, ntree_start, ntree_end, thread_count, verbose, 'predict', task_type)\n",
      "  File \"c:\\Users\\Juste KOUASSI\\AppData\\Local\\Programs\\Python\\Python310\\lib\\site-packages\\catboost\\core.py\", line 2541, in _predict\n",
      "    data, data_is_single_object = self._process_predict_input_data(data, parent_method_name, thread_count)\n",
      "  File \"c:\\Users\\Juste KOUASSI\\AppData\\Local\\Programs\\Python\\Python310\\lib\\site-packages\\catboost\\core.py\", line 2521, in _process_predict_input_data\n",
      "    data = Pool(\n",
      "  File \"c:\\Users\\Juste KOUASSI\\AppData\\Local\\Programs\\Python\\Python310\\lib\\site-packages\\catboost\\core.py\", line 792, in __init__\n",
      "    self._init(data, label, cat_features, text_features, embedding_features, embedding_features_data, pairs, weight,\n",
      "  File \"c:\\Users\\Juste KOUASSI\\AppData\\Local\\Programs\\Python\\Python310\\lib\\site-packages\\catboost\\core.py\", line 1419, in _init\n",
      "    self._init_pool(data, label, cat_features, text_features, embedding_features, embedding_features_data, pairs, weight,\n",
      "  File \"_catboost.pyx\", line 3954, in _catboost._PoolBase._init_pool\n",
      "  File \"_catboost.pyx\", line 4004, in _catboost._PoolBase._init_pool\n",
      "  File \"_catboost.pyx\", line 3820, in _catboost._PoolBase._init_features_order_layout_pool\n",
      "  File \"_catboost.pyx\", line 2759, in _catboost._set_features_order_data_pd_data_frame\n",
      "  File \"_catboost.pyx\", line 2356, in _catboost.get_cat_factor_bytes_representation\n",
      "_catboost.CatBoostError: Invalid type for cat_feature[non-default value idx=23,feature_idx=1]=nan : cat_features must be integer or string, real number values and NaN values should be converted to string.\n",
      "\n",
      "During handling of the above exception, another exception occurred:\n",
      "\n",
      "Traceback (most recent call last):\n",
      "  File \"C:\\Users\\Juste KOUASSI\\AppData\\Roaming\\Python\\Python310\\site-packages\\IPython\\core\\interactiveshell.py\", line 2057, in showtraceback\n",
      "    stb = self.InteractiveTB.structured_traceback(\n",
      "  File \"C:\\Users\\Juste KOUASSI\\AppData\\Roaming\\Python\\Python310\\site-packages\\IPython\\core\\ultratb.py\", line 1288, in structured_traceback\n",
      "    return FormattedTB.structured_traceback(\n",
      "  File \"C:\\Users\\Juste KOUASSI\\AppData\\Roaming\\Python\\Python310\\site-packages\\IPython\\core\\ultratb.py\", line 1177, in structured_traceback\n",
      "    return VerboseTB.structured_traceback(\n",
      "  File \"C:\\Users\\Juste KOUASSI\\AppData\\Roaming\\Python\\Python310\\site-packages\\IPython\\core\\ultratb.py\", line 1049, in structured_traceback\n",
      "    formatted_exceptions += self.format_exception_as_a_whole(etype, evalue, etb, lines_of_context,\n",
      "  File \"C:\\Users\\Juste KOUASSI\\AppData\\Roaming\\Python\\Python310\\site-packages\\IPython\\core\\ultratb.py\", line 935, in format_exception_as_a_whole\n",
      "    self.get_records(etb, number_of_lines_of_context, tb_offset) if etb else []\n",
      "  File \"C:\\Users\\Juste KOUASSI\\AppData\\Roaming\\Python\\Python310\\site-packages\\IPython\\core\\ultratb.py\", line 1003, in get_records\n",
      "    lines, first = inspect.getsourcelines(etb.tb_frame)\n",
      "  File \"c:\\Users\\Juste KOUASSI\\AppData\\Local\\Programs\\Python\\Python310\\lib\\inspect.py\", line 1121, in getsourcelines\n",
      "    lines, lnum = findsource(object)\n",
      "  File \"c:\\Users\\Juste KOUASSI\\AppData\\Local\\Programs\\Python\\Python310\\lib\\inspect.py\", line 958, in findsource\n",
      "    raise OSError('could not get source code')\n",
      "OSError: could not get source code\n"
     ]
    }
   ],
   "source": [
    "xtest = Test[features[:-1]]\n",
    "train_dataset = Pool(data=xtrain, label=ytrain, cat_features=cat_features)\n",
    "val_dataset = Pool(data=xvalid, label=yvalid, cat_features=cat_features)\n",
    "model = CatBoostRegressor(\n",
    "    iterations=30000, learning_rate=0.1, random_seed=123, verbose=300)\n",
    "model.fit(train_dataset, eval_set=val_dataset,\n",
    "          use_best_model=True, early_stopping_rounds=300)\n",
    "preds_valid = model.predict(xvalid)\n",
    "preds_test = model.predict(xtest)\n",
    "print(np.sqrt(mean_squared_error(yvalid, preds_valid)))"
   ]
  },
  {
   "cell_type": "code",
   "execution_count": 106,
   "id": "03a0d57c",
   "metadata": {},
   "outputs": [],
   "source": [
    "params = {\n",
    "    'iterations': 3000,\n",
    "    'learning_rate': 0.1,\n",
    "    'objective': 'RMSE',\n",
    "    'random_seed': SEED,\n",
    "    'early_stopping_rounds': 300,\n",
    "    'use_best_model': True,\n",
    "    'task_type': 'GPU' if torch.cuda.is_available() else 'CPU'\n",
    "}"
   ]
  },
  {
   "attachments": {},
   "cell_type": "markdown",
   "id": "b0d9b1f2",
   "metadata": {},
   "source": [
    "### CatBoostRegressor sans normalisation"
   ]
  },
  {
   "cell_type": "code",
   "execution_count": 91,
   "id": "dd816a02",
   "metadata": {
    "execution": {
     "iopub.execute_input": "2023-02-24T01:30:04.603572Z",
     "iopub.status.busy": "2023-02-24T01:30:04.603118Z",
     "iopub.status.idle": "2023-02-24T01:47:51.393944Z",
     "shell.execute_reply": "2023-02-24T01:47:51.392536Z"
    },
    "papermill": {
     "duration": 1066.8035,
     "end_time": "2023-02-24T01:47:51.396465",
     "exception": false,
     "start_time": "2023-02-24T01:30:04.592965",
     "status": "completed"
    },
    "tags": []
   },
   "outputs": [
    {
     "name": "stdout",
     "output_type": "stream",
     "text": [
      "0:\tlearn: 14.5821071\ttest: 15.0719725\tbest: 15.0719725 (0)\ttotal: 1.82s\tremaining: 15h 11m 1s\n",
      "300:\tlearn: 9.2555310\ttest: 10.3404002\tbest: 10.3404002 (300)\ttotal: 5m 35s\tremaining: 9h 11m 2s\n",
      "600:\tlearn: 8.6849024\ttest: 10.1156885\tbest: 10.1153198 (599)\ttotal: 11m 3s\tremaining: 9h 51s\n",
      "900:\tlearn: 8.3503653\ttest: 10.0347344\tbest: 10.0338171 (897)\ttotal: 16m 39s\tremaining: 8h 57m 47s\n"
     ]
    },
    {
     "ename": "KeyboardInterrupt",
     "evalue": "",
     "output_type": "error",
     "traceback": [
      "\u001b[1;31m---------------------------------------------------------------------------\u001b[0m",
      "\u001b[1;31mKeyboardInterrupt\u001b[0m                         Traceback (most recent call last)",
      "Cell \u001b[1;32mIn[91], line 5\u001b[0m\n\u001b[0;32m      3\u001b[0m val_dataset \u001b[39m=\u001b[39m Pool(data\u001b[39m=\u001b[39mxvalid, label\u001b[39m=\u001b[39myvalid, cat_features\u001b[39m=\u001b[39mcat_features)\n\u001b[0;32m      4\u001b[0m model_cbr \u001b[39m=\u001b[39m CatBoostRegressor(\u001b[39m*\u001b[39m\u001b[39m*\u001b[39mparams, verbose\u001b[39m=\u001b[39m\u001b[39m300\u001b[39m)\n\u001b[1;32m----> 5\u001b[0m model_cbr\u001b[39m.\u001b[39;49mfit(train_dataset, eval_set\u001b[39m=\u001b[39;49mval_dataset,\n\u001b[0;32m      6\u001b[0m           use_best_model\u001b[39m=\u001b[39;49m\u001b[39mTrue\u001b[39;49;00m, early_stopping_rounds\u001b[39m=\u001b[39;49m\u001b[39m300\u001b[39;49m)\n\u001b[0;32m      7\u001b[0m preds_valid \u001b[39m=\u001b[39m model_cbr\u001b[39m.\u001b[39mpredict(xvalid)\n\u001b[0;32m      8\u001b[0m preds_test \u001b[39m=\u001b[39m model_cbr\u001b[39m.\u001b[39mpredict(xtest)\n",
      "File \u001b[1;32mc:\\Users\\Juste KOUASSI\\AppData\\Local\\Programs\\Python\\Python310\\lib\\site-packages\\catboost\\core.py:5730\u001b[0m, in \u001b[0;36mCatBoostRegressor.fit\u001b[1;34m(self, X, y, cat_features, text_features, embedding_features, sample_weight, baseline, use_best_model, eval_set, verbose, logging_level, plot, plot_file, column_description, verbose_eval, metric_period, silent, early_stopping_rounds, save_snapshot, snapshot_file, snapshot_interval, init_model, callbacks, log_cout, log_cerr)\u001b[0m\n\u001b[0;32m   5727\u001b[0m \u001b[39mif\u001b[39;00m \u001b[39m'\u001b[39m\u001b[39mloss_function\u001b[39m\u001b[39m'\u001b[39m \u001b[39min\u001b[39;00m params:\n\u001b[0;32m   5728\u001b[0m     CatBoostRegressor\u001b[39m.\u001b[39m_check_is_compatible_loss(params[\u001b[39m'\u001b[39m\u001b[39mloss_function\u001b[39m\u001b[39m'\u001b[39m])\n\u001b[1;32m-> 5730\u001b[0m \u001b[39mreturn\u001b[39;00m \u001b[39mself\u001b[39;49m\u001b[39m.\u001b[39;49m_fit(X, y, cat_features, text_features, embedding_features, \u001b[39mNone\u001b[39;49;00m, sample_weight, \u001b[39mNone\u001b[39;49;00m, \u001b[39mNone\u001b[39;49;00m, \u001b[39mNone\u001b[39;49;00m, \u001b[39mNone\u001b[39;49;00m, baseline,\n\u001b[0;32m   5731\u001b[0m                  use_best_model, eval_set, verbose, logging_level, plot, plot_file, column_description,\n\u001b[0;32m   5732\u001b[0m                  verbose_eval, metric_period, silent, early_stopping_rounds,\n\u001b[0;32m   5733\u001b[0m                  save_snapshot, snapshot_file, snapshot_interval, init_model, callbacks, log_cout, log_cerr)\n",
      "File \u001b[1;32mc:\\Users\\Juste KOUASSI\\AppData\\Local\\Programs\\Python\\Python310\\lib\\site-packages\\catboost\\core.py:2355\u001b[0m, in \u001b[0;36mCatBoost._fit\u001b[1;34m(self, X, y, cat_features, text_features, embedding_features, pairs, sample_weight, group_id, group_weight, subgroup_id, pairs_weight, baseline, use_best_model, eval_set, verbose, logging_level, plot, plot_file, column_description, verbose_eval, metric_period, silent, early_stopping_rounds, save_snapshot, snapshot_file, snapshot_interval, init_model, callbacks, log_cout, log_cerr)\u001b[0m\n\u001b[0;32m   2351\u001b[0m allow_clear_pool \u001b[39m=\u001b[39m train_params[\u001b[39m\"\u001b[39m\u001b[39mallow_clear_pool\u001b[39m\u001b[39m\"\u001b[39m]\n\u001b[0;32m   2353\u001b[0m \u001b[39mwith\u001b[39;00m log_fixup(log_cout, log_cerr), \\\n\u001b[0;32m   2354\u001b[0m     plot_wrapper(plot, plot_file, \u001b[39m'\u001b[39m\u001b[39mTraining plots\u001b[39m\u001b[39m'\u001b[39m, [_get_train_dir(\u001b[39mself\u001b[39m\u001b[39m.\u001b[39mget_params())]):\n\u001b[1;32m-> 2355\u001b[0m     \u001b[39mself\u001b[39;49m\u001b[39m.\u001b[39;49m_train(\n\u001b[0;32m   2356\u001b[0m         train_pool,\n\u001b[0;32m   2357\u001b[0m         train_params[\u001b[39m\"\u001b[39;49m\u001b[39meval_sets\u001b[39;49m\u001b[39m\"\u001b[39;49m],\n\u001b[0;32m   2358\u001b[0m         params,\n\u001b[0;32m   2359\u001b[0m         allow_clear_pool,\n\u001b[0;32m   2360\u001b[0m         train_params[\u001b[39m\"\u001b[39;49m\u001b[39minit_model\u001b[39;49m\u001b[39m\"\u001b[39;49m]\n\u001b[0;32m   2361\u001b[0m     )\n\u001b[0;32m   2363\u001b[0m \u001b[39m# Have property feature_importance possibly set\u001b[39;00m\n\u001b[0;32m   2364\u001b[0m loss \u001b[39m=\u001b[39m \u001b[39mself\u001b[39m\u001b[39m.\u001b[39m_object\u001b[39m.\u001b[39m_get_loss_function_name()\n",
      "File \u001b[1;32mc:\\Users\\Juste KOUASSI\\AppData\\Local\\Programs\\Python\\Python310\\lib\\site-packages\\catboost\\core.py:1759\u001b[0m, in \u001b[0;36m_CatBoostBase._train\u001b[1;34m(self, train_pool, test_pool, params, allow_clear_pool, init_model)\u001b[0m\n\u001b[0;32m   1758\u001b[0m \u001b[39mdef\u001b[39;00m \u001b[39m_train\u001b[39m(\u001b[39mself\u001b[39m, train_pool, test_pool, params, allow_clear_pool, init_model):\n\u001b[1;32m-> 1759\u001b[0m     \u001b[39mself\u001b[39;49m\u001b[39m.\u001b[39;49m_object\u001b[39m.\u001b[39;49m_train(train_pool, test_pool, params, allow_clear_pool, init_model\u001b[39m.\u001b[39;49m_object \u001b[39mif\u001b[39;49;00m init_model \u001b[39melse\u001b[39;49;00m \u001b[39mNone\u001b[39;49;00m)\n\u001b[0;32m   1760\u001b[0m     \u001b[39mself\u001b[39m\u001b[39m.\u001b[39m_set_trained_model_attributes()\n",
      "File \u001b[1;32m_catboost.pyx:4623\u001b[0m, in \u001b[0;36m_catboost._CatBoost._train\u001b[1;34m()\u001b[0m\n",
      "File \u001b[1;32m_catboost.pyx:4672\u001b[0m, in \u001b[0;36m_catboost._CatBoost._train\u001b[1;34m()\u001b[0m\n",
      "\u001b[1;31mKeyboardInterrupt\u001b[0m: "
     ]
    }
   ],
   "source": [
    "xtest = Test_pp[features[:-1]]\n",
    "train_dataset = Pool(data=xtrain, label=ytrain, cat_features=cat_features)\n",
    "val_dataset = Pool(data=xvalid, label=yvalid, cat_features=cat_features)\n",
    "model_cbr = CatBoostRegressor(**params)\n",
    "model_cbr.fit(train_dataset, eval_set=val_dataset, verbose=100)\n",
    "preds_valid = model_cbr.predict(xvalid)\n",
    "preds_test = model_cbr.predict(xtest)\n",
    "print(rmse(yvalid, preds_valid))"
   ]
  },
  {
   "attachments": {},
   "cell_type": "markdown",
   "id": "7fd2ee12",
   "metadata": {},
   "source": [
    "9.719490517234895"
   ]
  },
  {
   "attachments": {},
   "cell_type": "markdown",
   "id": "ac3cee3e",
   "metadata": {},
   "source": [
    "### CatBoostRegressor avec normalisation"
   ]
  },
  {
   "cell_type": "code",
   "execution_count": 92,
   "id": "6c2ee8df",
   "metadata": {},
   "outputs": [
    {
     "name": "stdout",
     "output_type": "stream",
     "text": [
      "0:\tlearn: 0.1507104\ttest: 0.1558392\tbest: 0.1558392 (0)\ttotal: 301ms\tremaining: 2h 30m 21s\n",
      "300:\tlearn: 0.0897837\ttest: 0.1043035\tbest: 0.1043035 (300)\ttotal: 38.5s\tremaining: 1h 3m 13s\n",
      "600:\tlearn: 0.0838117\ttest: 0.1028227\tbest: 0.1028137 (588)\ttotal: 1m 14s\tremaining: 1h 54s\n",
      "900:\tlearn: 0.0807352\ttest: 0.1019851\tbest: 0.1019850 (898)\ttotal: 1m 46s\tremaining: 57m 14s\n",
      "1200:\tlearn: 0.0788090\ttest: 0.1020099\tbest: 0.1018555 (973)\ttotal: 2m 15s\tremaining: 54m 6s\n",
      "1500:\tlearn: 0.0768224\ttest: 0.1019524\tbest: 0.1018555 (973)\ttotal: 2m 43s\tremaining: 51m 53s\n",
      "1800:\tlearn: 0.0752947\ttest: 0.1018778\tbest: 0.1018555 (973)\ttotal: 3m 15s\tremaining: 51m\n",
      "2100:\tlearn: 0.0741582\ttest: 0.1017236\tbest: 0.1017209 (2094)\ttotal: 3m 49s\tremaining: 50m 49s\n",
      "2400:\tlearn: 0.0729669\ttest: 0.1017071\tbest: 0.1016957 (2265)\ttotal: 4m 21s\tremaining: 50m 9s\n",
      "2700:\tlearn: 0.0721383\ttest: 0.1017646\tbest: 0.1016809 (2420)\ttotal: 4m 53s\tremaining: 49m 29s\n",
      "3000:\tlearn: 0.0713280\ttest: 0.1017212\tbest: 0.1016809 (2420)\ttotal: 5m 27s\tremaining: 49m 2s\n",
      "3300:\tlearn: 0.0706542\ttest: 0.1018282\tbest: 0.1016809 (2420)\ttotal: 5m 57s\tremaining: 48m 14s\n",
      "3600:\tlearn: 0.0700620\ttest: 0.1017925\tbest: 0.1016809 (2420)\ttotal: 6m 24s\tremaining: 47m 1s\n",
      "3900:\tlearn: 0.0695993\ttest: 0.1018714\tbest: 0.1016809 (2420)\ttotal: 6m 51s\tremaining: 45m 52s\n",
      "4200:\tlearn: 0.0692048\ttest: 0.1018323\tbest: 0.1016809 (2420)\ttotal: 7m 17s\tremaining: 44m 46s\n",
      "4500:\tlearn: 0.0686744\ttest: 0.1018294\tbest: 0.1016809 (2420)\ttotal: 7m 44s\tremaining: 43m 50s\n",
      "4800:\tlearn: 0.0682813\ttest: 0.1018608\tbest: 0.1016809 (2420)\ttotal: 8m 11s\tremaining: 43m\n",
      "5100:\tlearn: 0.0678255\ttest: 0.1019386\tbest: 0.1016809 (2420)\ttotal: 8m 40s\tremaining: 42m 18s\n",
      "5400:\tlearn: 0.0672757\ttest: 0.1020598\tbest: 0.1016809 (2420)\ttotal: 9m 8s\tremaining: 41m 39s\n",
      "5700:\tlearn: 0.0669652\ttest: 0.1020765\tbest: 0.1016809 (2420)\ttotal: 9m 36s\tremaining: 40m 56s\n"
     ]
    },
    {
     "ename": "KeyboardInterrupt",
     "evalue": "",
     "output_type": "error",
     "traceback": [
      "\u001b[1;31m---------------------------------------------------------------------------\u001b[0m",
      "\u001b[1;31mKeyboardInterrupt\u001b[0m                         Traceback (most recent call last)",
      "Cell \u001b[1;32mIn[92], line 5\u001b[0m\n\u001b[0;32m      3\u001b[0m val_dataset_norm \u001b[39m=\u001b[39m Pool(data\u001b[39m=\u001b[39mxvalid_norm, label\u001b[39m=\u001b[39myvalid_norm)\n\u001b[0;32m      4\u001b[0m model_norm \u001b[39m=\u001b[39m CatBoostRegressor(\u001b[39m*\u001b[39m\u001b[39m*\u001b[39mparams)\n\u001b[1;32m----> 5\u001b[0m model_norm\u001b[39m.\u001b[39;49mfit(train_dataset_norm, eval_set\u001b[39m=\u001b[39;49mval_dataset_norm, verbose\u001b[39m=\u001b[39;49m\u001b[39m300\u001b[39;49m)\n\u001b[0;32m      6\u001b[0m preds_valid_norm \u001b[39m=\u001b[39m model_norm\u001b[39m.\u001b[39mpredict(xvalid_norm)\n\u001b[0;32m      7\u001b[0m preds_test_norm \u001b[39m=\u001b[39m model_norm\u001b[39m.\u001b[39mpredict(xtest_norm)\n",
      "File \u001b[1;32mc:\\Users\\Juste KOUASSI\\AppData\\Local\\Programs\\Python\\Python310\\lib\\site-packages\\catboost\\core.py:5730\u001b[0m, in \u001b[0;36mCatBoostRegressor.fit\u001b[1;34m(self, X, y, cat_features, text_features, embedding_features, sample_weight, baseline, use_best_model, eval_set, verbose, logging_level, plot, plot_file, column_description, verbose_eval, metric_period, silent, early_stopping_rounds, save_snapshot, snapshot_file, snapshot_interval, init_model, callbacks, log_cout, log_cerr)\u001b[0m\n\u001b[0;32m   5727\u001b[0m \u001b[39mif\u001b[39;00m \u001b[39m'\u001b[39m\u001b[39mloss_function\u001b[39m\u001b[39m'\u001b[39m \u001b[39min\u001b[39;00m params:\n\u001b[0;32m   5728\u001b[0m     CatBoostRegressor\u001b[39m.\u001b[39m_check_is_compatible_loss(params[\u001b[39m'\u001b[39m\u001b[39mloss_function\u001b[39m\u001b[39m'\u001b[39m])\n\u001b[1;32m-> 5730\u001b[0m \u001b[39mreturn\u001b[39;00m \u001b[39mself\u001b[39;49m\u001b[39m.\u001b[39;49m_fit(X, y, cat_features, text_features, embedding_features, \u001b[39mNone\u001b[39;49;00m, sample_weight, \u001b[39mNone\u001b[39;49;00m, \u001b[39mNone\u001b[39;49;00m, \u001b[39mNone\u001b[39;49;00m, \u001b[39mNone\u001b[39;49;00m, baseline,\n\u001b[0;32m   5731\u001b[0m                  use_best_model, eval_set, verbose, logging_level, plot, plot_file, column_description,\n\u001b[0;32m   5732\u001b[0m                  verbose_eval, metric_period, silent, early_stopping_rounds,\n\u001b[0;32m   5733\u001b[0m                  save_snapshot, snapshot_file, snapshot_interval, init_model, callbacks, log_cout, log_cerr)\n",
      "File \u001b[1;32mc:\\Users\\Juste KOUASSI\\AppData\\Local\\Programs\\Python\\Python310\\lib\\site-packages\\catboost\\core.py:2355\u001b[0m, in \u001b[0;36mCatBoost._fit\u001b[1;34m(self, X, y, cat_features, text_features, embedding_features, pairs, sample_weight, group_id, group_weight, subgroup_id, pairs_weight, baseline, use_best_model, eval_set, verbose, logging_level, plot, plot_file, column_description, verbose_eval, metric_period, silent, early_stopping_rounds, save_snapshot, snapshot_file, snapshot_interval, init_model, callbacks, log_cout, log_cerr)\u001b[0m\n\u001b[0;32m   2351\u001b[0m allow_clear_pool \u001b[39m=\u001b[39m train_params[\u001b[39m\"\u001b[39m\u001b[39mallow_clear_pool\u001b[39m\u001b[39m\"\u001b[39m]\n\u001b[0;32m   2353\u001b[0m \u001b[39mwith\u001b[39;00m log_fixup(log_cout, log_cerr), \\\n\u001b[0;32m   2354\u001b[0m     plot_wrapper(plot, plot_file, \u001b[39m'\u001b[39m\u001b[39mTraining plots\u001b[39m\u001b[39m'\u001b[39m, [_get_train_dir(\u001b[39mself\u001b[39m\u001b[39m.\u001b[39mget_params())]):\n\u001b[1;32m-> 2355\u001b[0m     \u001b[39mself\u001b[39;49m\u001b[39m.\u001b[39;49m_train(\n\u001b[0;32m   2356\u001b[0m         train_pool,\n\u001b[0;32m   2357\u001b[0m         train_params[\u001b[39m\"\u001b[39;49m\u001b[39meval_sets\u001b[39;49m\u001b[39m\"\u001b[39;49m],\n\u001b[0;32m   2358\u001b[0m         params,\n\u001b[0;32m   2359\u001b[0m         allow_clear_pool,\n\u001b[0;32m   2360\u001b[0m         train_params[\u001b[39m\"\u001b[39;49m\u001b[39minit_model\u001b[39;49m\u001b[39m\"\u001b[39;49m]\n\u001b[0;32m   2361\u001b[0m     )\n\u001b[0;32m   2363\u001b[0m \u001b[39m# Have property feature_importance possibly set\u001b[39;00m\n\u001b[0;32m   2364\u001b[0m loss \u001b[39m=\u001b[39m \u001b[39mself\u001b[39m\u001b[39m.\u001b[39m_object\u001b[39m.\u001b[39m_get_loss_function_name()\n",
      "File \u001b[1;32mc:\\Users\\Juste KOUASSI\\AppData\\Local\\Programs\\Python\\Python310\\lib\\site-packages\\catboost\\core.py:1759\u001b[0m, in \u001b[0;36m_CatBoostBase._train\u001b[1;34m(self, train_pool, test_pool, params, allow_clear_pool, init_model)\u001b[0m\n\u001b[0;32m   1758\u001b[0m \u001b[39mdef\u001b[39;00m \u001b[39m_train\u001b[39m(\u001b[39mself\u001b[39m, train_pool, test_pool, params, allow_clear_pool, init_model):\n\u001b[1;32m-> 1759\u001b[0m     \u001b[39mself\u001b[39;49m\u001b[39m.\u001b[39;49m_object\u001b[39m.\u001b[39;49m_train(train_pool, test_pool, params, allow_clear_pool, init_model\u001b[39m.\u001b[39;49m_object \u001b[39mif\u001b[39;49;00m init_model \u001b[39melse\u001b[39;49;00m \u001b[39mNone\u001b[39;49;00m)\n\u001b[0;32m   1760\u001b[0m     \u001b[39mself\u001b[39m\u001b[39m.\u001b[39m_set_trained_model_attributes()\n",
      "File \u001b[1;32m_catboost.pyx:4623\u001b[0m, in \u001b[0;36m_catboost._CatBoost._train\u001b[1;34m()\u001b[0m\n",
      "File \u001b[1;32m_catboost.pyx:4672\u001b[0m, in \u001b[0;36m_catboost._CatBoost._train\u001b[1;34m()\u001b[0m\n",
      "\u001b[1;31mKeyboardInterrupt\u001b[0m: "
     ]
    }
   ],
   "source": [
    "xtest_norm = Test_norm[features[:-1]]\n",
    "train_dataset_norm = Pool(data=xtrain_norm, label=ytrain_norm)\n",
    "val_dataset_norm = Pool(data=xvalid_norm, label=yvalid_norm)\n",
    "model_norm = CatBoostRegressor(**params)\n",
    "model_norm.fit(train_dataset_norm, eval_set=val_dataset_norm, verbose=300)\n",
    "preds_valid_norm = model_norm.predict(xvalid_norm)\n",
    "preds_test_norm = model_norm.predict(xtest_norm)\n",
    "print(rmse(yvalid_norm, preds_valid_norm))"
   ]
  },
  {
   "attachments": {},
   "cell_type": "markdown",
   "id": "01b4376d",
   "metadata": {},
   "source": [
    "## Model interpretability"
   ]
  },
  {
   "attachments": {},
   "cell_type": "markdown",
   "id": "6df5bb96",
   "metadata": {},
   "source": [
    "### Interpretability for unnormalized dataset"
   ]
  },
  {
   "cell_type": "code",
   "execution_count": 94,
   "id": "a22e605b",
   "metadata": {
    "execution": {
     "iopub.execute_input": "2023-02-24T01:48:05.669229Z",
     "iopub.status.busy": "2023-02-24T01:48:05.668770Z",
     "iopub.status.idle": "2023-02-24T01:48:05.676881Z",
     "shell.execute_reply": "2023-02-24T01:48:05.675631Z"
    },
    "papermill": {
     "duration": 0.021271,
     "end_time": "2023-02-24T01:48:05.679342",
     "exception": false,
     "start_time": "2023-02-24T01:48:05.658071",
     "status": "completed"
    },
    "tags": []
   },
   "outputs": [],
   "source": [
    "new_features = xtest.columns\n",
    "\n",
    "f = {}\n",
    "for i in range(1, 16):\n",
    "    f[f'f{i}'] = []"
   ]
  },
  {
   "cell_type": "code",
   "execution_count": null,
   "id": "bc188ccc",
   "metadata": {},
   "outputs": [],
   "source": [
    "expaliner = shap.TreeExplainer(model_cbr)\n",
    "shap_values = expaliner.shap_values(xtest)"
   ]
  },
  {
   "cell_type": "code",
   "execution_count": 31,
   "id": "9b4cea84",
   "metadata": {
    "execution": {
     "iopub.execute_input": "2023-02-24T01:48:05.700351Z",
     "iopub.status.busy": "2023-02-24T01:48:05.699524Z",
     "iopub.status.idle": "2023-02-24T01:48:05.844761Z",
     "shell.execute_reply": "2023-02-24T01:48:05.843763Z"
    },
    "papermill": {
     "duration": 0.1588,
     "end_time": "2023-02-24T01:48:05.847538",
     "exception": false,
     "start_time": "2023-02-24T01:48:05.688738",
     "status": "completed"
    },
    "tags": []
   },
   "outputs": [],
   "source": [
    "for shap_value in shap_values:\n",
    "    arr = np.argsort(shap_value)[::-1][:15]\n",
    "    for ind, a in enumerate(arr):\n",
    "        name_f = f'f{ind+1}'\n",
    "        f[name_f].append(new_features[a])"
   ]
  },
  {
   "attachments": {},
   "cell_type": "markdown",
   "id": "61bcc78b",
   "metadata": {},
   "source": [
    "### Interpretability for normalized dataset"
   ]
  },
  {
   "cell_type": "code",
   "execution_count": 95,
   "id": "77875c26",
   "metadata": {},
   "outputs": [],
   "source": [
    "features_norm = xtest_norm.columns\n",
    "\n",
    "f_norm = {}\n",
    "for i in range(1, 16):\n",
    "    f_norm[f'f{i}'] = []"
   ]
  },
  {
   "cell_type": "code",
   "execution_count": null,
   "id": "d63ea254",
   "metadata": {},
   "outputs": [],
   "source": [
    "expaliner_norm = shap.TreeExplainer(model_norm)\n",
    "shap_values_norm = expaliner_norm.shap_values(xtest_norm)"
   ]
  },
  {
   "cell_type": "code",
   "execution_count": 102,
   "id": "674c104f",
   "metadata": {},
   "outputs": [],
   "source": [
    "for shap_value in shap_values_norm:\n",
    "    arr = np.argsort(shap_value)[::-1][:15]\n",
    "    for ind, a in enumerate(arr):\n",
    "        name_f = f'f{ind+1}'\n",
    "        f_norm[name_f].append(features_norm[a])"
   ]
  },
  {
   "attachments": {},
   "cell_type": "markdown",
   "id": "397e3a6e",
   "metadata": {},
   "source": [
    "## Submission"
   ]
  },
  {
   "cell_type": "code",
   "execution_count": 32,
   "id": "943c6c9f",
   "metadata": {
    "execution": {
     "iopub.execute_input": "2023-02-24T01:48:05.868477Z",
     "iopub.status.busy": "2023-02-24T01:48:05.867750Z",
     "iopub.status.idle": "2023-02-24T01:48:05.881281Z",
     "shell.execute_reply": "2023-02-24T01:48:05.880289Z"
    },
    "papermill": {
     "duration": 0.027164,
     "end_time": "2023-02-24T01:48:05.884078",
     "exception": false,
     "start_time": "2023-02-24T01:48:05.856914",
     "status": "completed"
    },
    "tags": []
   },
   "outputs": [],
   "source": [
    "SampleSubmission[TARGET] = preds_test\n",
    "for i in range(1,16):\n",
    "    SampleSubmission[f'feature_{i}'] = f[f'f{i}']\n",
    "SampleSubmission"
   ]
  },
  {
   "cell_type": "code",
   "execution_count": 104,
   "id": "d7feb766",
   "metadata": {},
   "outputs": [
    {
     "data": {
      "text/html": [
       "<div>\n",
       "<style scoped>\n",
       "    .dataframe tbody tr th:only-of-type {\n",
       "        vertical-align: middle;\n",
       "    }\n",
       "\n",
       "    .dataframe tbody tr th {\n",
       "        vertical-align: top;\n",
       "    }\n",
       "\n",
       "    .dataframe thead th {\n",
       "        text-align: right;\n",
       "    }\n",
       "</style>\n",
       "<table border=\"1\" class=\"dataframe\">\n",
       "  <thead>\n",
       "    <tr style=\"text-align: right;\">\n",
       "      <th></th>\n",
       "      <th>child_id</th>\n",
       "      <th>target</th>\n",
       "      <th>feature_1</th>\n",
       "      <th>feature_2</th>\n",
       "      <th>feature_3</th>\n",
       "      <th>feature_4</th>\n",
       "      <th>feature_5</th>\n",
       "      <th>feature_6</th>\n",
       "      <th>feature_7</th>\n",
       "      <th>feature_8</th>\n",
       "      <th>feature_9</th>\n",
       "      <th>feature_10</th>\n",
       "      <th>feature_11</th>\n",
       "      <th>feature_12</th>\n",
       "      <th>feature_13</th>\n",
       "      <th>feature_14</th>\n",
       "      <th>feature_15</th>\n",
       "    </tr>\n",
       "  </thead>\n",
       "  <tbody>\n",
       "    <tr>\n",
       "      <th>0</th>\n",
       "      <td>ID_0I0999N6S</td>\n",
       "      <td>57.518256</td>\n",
       "      <td>child_observe_total</td>\n",
       "      <td>teacher_emotional_total</td>\n",
       "      <td>child_observe_diligent</td>\n",
       "      <td>child_observe_attentive</td>\n",
       "      <td>child_observe_interested</td>\n",
       "      <td>child_height</td>\n",
       "      <td>pri_fees_amount</td>\n",
       "      <td>count_register_gender_female</td>\n",
       "      <td>id_team</td>\n",
       "      <td>child_age</td>\n",
       "      <td>ses_cat</td>\n",
       "      <td>count_children_present</td>\n",
       "      <td>child_years_in_programme</td>\n",
       "      <td>obs_materials_19</td>\n",
       "      <td>child_gender</td>\n",
       "    </tr>\n",
       "    <tr>\n",
       "      <th>1</th>\n",
       "      <td>ID_GQ6ONJ4FP</td>\n",
       "      <td>42.645501</td>\n",
       "      <td>child_observe_total</td>\n",
       "      <td>teacher_emotional_total</td>\n",
       "      <td>child_observe_attentive</td>\n",
       "      <td>count_register_year_2015</td>\n",
       "      <td>child_observe_interested</td>\n",
       "      <td>child_observe_concentrated</td>\n",
       "      <td>pri_year</td>\n",
       "      <td>language_child</td>\n",
       "      <td>pri_fees_amount</td>\n",
       "      <td>child_gender</td>\n",
       "      <td>teacher_emotional_understand</td>\n",
       "      <td>count_register_year_2020</td>\n",
       "      <td>id_ward_n</td>\n",
       "      <td>dc_best</td>\n",
       "      <td>id_facility_n</td>\n",
       "    </tr>\n",
       "    <tr>\n",
       "      <th>2</th>\n",
       "      <td>ID_YZ76CVRW3</td>\n",
       "      <td>47.425821</td>\n",
       "      <td>child_observe_total</td>\n",
       "      <td>id_enumerator</td>\n",
       "      <td>longitude</td>\n",
       "      <td>latitude</td>\n",
       "      <td>id_team</td>\n",
       "      <td>obs_toilet</td>\n",
       "      <td>language_child</td>\n",
       "      <td>pri_fees_amount</td>\n",
       "      <td>count_toilets_children</td>\n",
       "      <td>child_age</td>\n",
       "      <td>language_assessment</td>\n",
       "      <td>teacher_selfcare_total</td>\n",
       "      <td>language_match</td>\n",
       "      <td>pra_plans_0</td>\n",
       "      <td>ses_cat</td>\n",
       "    </tr>\n",
       "    <tr>\n",
       "      <th>3</th>\n",
       "      <td>ID_BNINCRXH8</td>\n",
       "      <td>67.754492</td>\n",
       "      <td>child_observe_total</td>\n",
       "      <td>id_enumerator</td>\n",
       "      <td>child_date</td>\n",
       "      <td>child_observe_diligent</td>\n",
       "      <td>child_observe_attentive</td>\n",
       "      <td>teacher_emotional_total</td>\n",
       "      <td>child_age</td>\n",
       "      <td>id_team</td>\n",
       "      <td>child_height</td>\n",
       "      <td>child_observe_concentrated</td>\n",
       "      <td>id_prov_n</td>\n",
       "      <td>id_dc_best</td>\n",
       "      <td>count_staff_all</td>\n",
       "      <td>child_years_in_programme</td>\n",
       "      <td>mn_best</td>\n",
       "    </tr>\n",
       "    <tr>\n",
       "      <th>4</th>\n",
       "      <td>ID_1U7GDTLRI</td>\n",
       "      <td>44.176424</td>\n",
       "      <td>pri_meal</td>\n",
       "      <td>child_observe_total</td>\n",
       "      <td>id_mn_best</td>\n",
       "      <td>id_team</td>\n",
       "      <td>child_observe_interested</td>\n",
       "      <td>id_ward</td>\n",
       "      <td>longitude</td>\n",
       "      <td>dc_best</td>\n",
       "      <td>teacher_emotional_understand</td>\n",
       "      <td>obs_handwashing</td>\n",
       "      <td>count_register_gender_female</td>\n",
       "      <td>id_prov</td>\n",
       "      <td>child_dob</td>\n",
       "      <td>count_children_precovid</td>\n",
       "      <td>pri_time_close_hours</td>\n",
       "    </tr>\n",
       "    <tr>\n",
       "      <th>...</th>\n",
       "      <td>...</td>\n",
       "      <td>...</td>\n",
       "      <td>...</td>\n",
       "      <td>...</td>\n",
       "      <td>...</td>\n",
       "      <td>...</td>\n",
       "      <td>...</td>\n",
       "      <td>...</td>\n",
       "      <td>...</td>\n",
       "      <td>...</td>\n",
       "      <td>...</td>\n",
       "      <td>...</td>\n",
       "      <td>...</td>\n",
       "      <td>...</td>\n",
       "      <td>...</td>\n",
       "      <td>...</td>\n",
       "      <td>...</td>\n",
       "    </tr>\n",
       "    <tr>\n",
       "      <th>3675</th>\n",
       "      <td>ID_LBPQ2VMQZ</td>\n",
       "      <td>46.279520</td>\n",
       "      <td>child_age</td>\n",
       "      <td>child_observe_total</td>\n",
       "      <td>child_age_group</td>\n",
       "      <td>ses_proxy</td>\n",
       "      <td>child_observe_interested</td>\n",
       "      <td>id_team</td>\n",
       "      <td>id_ward</td>\n",
       "      <td>pri_language_97</td>\n",
       "      <td>child_years_in_programme</td>\n",
       "      <td>teacher_emotional_understand</td>\n",
       "      <td>teacher_selfcare_met</td>\n",
       "      <td>count_register_year_2020</td>\n",
       "      <td>teacher_duration</td>\n",
       "      <td>pri_funding_subsidy</td>\n",
       "      <td>child_stunted</td>\n",
       "    </tr>\n",
       "    <tr>\n",
       "      <th>3676</th>\n",
       "      <td>ID_H2RKKMMKK</td>\n",
       "      <td>52.676299</td>\n",
       "      <td>child_age</td>\n",
       "      <td>child_height</td>\n",
       "      <td>child_date</td>\n",
       "      <td>child_age_group</td>\n",
       "      <td>pri_fees_amount</td>\n",
       "      <td>obs_materials_19</td>\n",
       "      <td>obs_handwashing</td>\n",
       "      <td>id_team</td>\n",
       "      <td>ward_best</td>\n",
       "      <td>id_ward</td>\n",
       "      <td>count_children_present</td>\n",
       "      <td>child_dob</td>\n",
       "      <td>language_match</td>\n",
       "      <td>id_enumerator</td>\n",
       "      <td>id_dc_n</td>\n",
       "    </tr>\n",
       "    <tr>\n",
       "      <th>3677</th>\n",
       "      <td>ID_VY8KX7YTZ</td>\n",
       "      <td>42.188966</td>\n",
       "      <td>child_observe_total</td>\n",
       "      <td>child_observe_attentive</td>\n",
       "      <td>child_observe_diligent</td>\n",
       "      <td>child_observe_interested</td>\n",
       "      <td>child_date</td>\n",
       "      <td>child_height</td>\n",
       "      <td>child_age</td>\n",
       "      <td>child_observe_concentrated</td>\n",
       "      <td>mn_best</td>\n",
       "      <td>count_register_gender_female</td>\n",
       "      <td>language_match</td>\n",
       "      <td>teacher_emotional_understand</td>\n",
       "      <td>teacher_social_total</td>\n",
       "      <td>teacher_selfcare_total</td>\n",
       "      <td>child_gender</td>\n",
       "    </tr>\n",
       "    <tr>\n",
       "      <th>3678</th>\n",
       "      <td>ID_EO2MYZ4M7</td>\n",
       "      <td>33.140829</td>\n",
       "      <td>id_enumerator</td>\n",
       "      <td>language_match</td>\n",
       "      <td>latitude</td>\n",
       "      <td>obs_handwashing</td>\n",
       "      <td>id_dc_n</td>\n",
       "      <td>count_register_gender_female</td>\n",
       "      <td>count_staff_salary_unpaid</td>\n",
       "      <td>prov_best</td>\n",
       "      <td>pra_agency_choice</td>\n",
       "      <td>id_facility</td>\n",
       "      <td>pri_capacity</td>\n",
       "      <td>count_children_present</td>\n",
       "      <td>teacher_emotional_understand</td>\n",
       "      <td>obs_area</td>\n",
       "      <td>child_gender</td>\n",
       "    </tr>\n",
       "    <tr>\n",
       "      <th>3679</th>\n",
       "      <td>ID_NSFLRZ8ZU</td>\n",
       "      <td>42.766203</td>\n",
       "      <td>child_age_group</td>\n",
       "      <td>child_age</td>\n",
       "      <td>id_enumerator</td>\n",
       "      <td>id_dc_best</td>\n",
       "      <td>child_height</td>\n",
       "      <td>id_team</td>\n",
       "      <td>language_match</td>\n",
       "      <td>id_ward</td>\n",
       "      <td>language_child</td>\n",
       "      <td>language_assessment</td>\n",
       "      <td>count_children_present</td>\n",
       "      <td>mn_best</td>\n",
       "      <td>longitude</td>\n",
       "      <td>ward_best</td>\n",
       "      <td>teacher_selfcare_total</td>\n",
       "    </tr>\n",
       "  </tbody>\n",
       "</table>\n",
       "<p>3680 rows × 17 columns</p>\n",
       "</div>"
      ],
      "text/plain": [
       "          child_id     target            feature_1                feature_2  \\\n",
       "0     ID_0I0999N6S  57.518256  child_observe_total  teacher_emotional_total   \n",
       "1     ID_GQ6ONJ4FP  42.645501  child_observe_total  teacher_emotional_total   \n",
       "2     ID_YZ76CVRW3  47.425821  child_observe_total            id_enumerator   \n",
       "3     ID_BNINCRXH8  67.754492  child_observe_total            id_enumerator   \n",
       "4     ID_1U7GDTLRI  44.176424             pri_meal      child_observe_total   \n",
       "...            ...        ...                  ...                      ...   \n",
       "3675  ID_LBPQ2VMQZ  46.279520            child_age      child_observe_total   \n",
       "3676  ID_H2RKKMMKK  52.676299            child_age             child_height   \n",
       "3677  ID_VY8KX7YTZ  42.188966  child_observe_total  child_observe_attentive   \n",
       "3678  ID_EO2MYZ4M7  33.140829        id_enumerator           language_match   \n",
       "3679  ID_NSFLRZ8ZU  42.766203      child_age_group                child_age   \n",
       "\n",
       "                    feature_3                 feature_4  \\\n",
       "0      child_observe_diligent   child_observe_attentive   \n",
       "1     child_observe_attentive  count_register_year_2015   \n",
       "2                   longitude                  latitude   \n",
       "3                  child_date    child_observe_diligent   \n",
       "4                  id_mn_best                   id_team   \n",
       "...                       ...                       ...   \n",
       "3675          child_age_group                 ses_proxy   \n",
       "3676               child_date           child_age_group   \n",
       "3677   child_observe_diligent  child_observe_interested   \n",
       "3678                 latitude           obs_handwashing   \n",
       "3679            id_enumerator                id_dc_best   \n",
       "\n",
       "                     feature_5                     feature_6  \\\n",
       "0     child_observe_interested                  child_height   \n",
       "1     child_observe_interested    child_observe_concentrated   \n",
       "2                      id_team                    obs_toilet   \n",
       "3      child_observe_attentive       teacher_emotional_total   \n",
       "4     child_observe_interested                       id_ward   \n",
       "...                        ...                           ...   \n",
       "3675  child_observe_interested                       id_team   \n",
       "3676           pri_fees_amount              obs_materials_19   \n",
       "3677                child_date                  child_height   \n",
       "3678                   id_dc_n  count_register_gender_female   \n",
       "3679              child_height                       id_team   \n",
       "\n",
       "                      feature_7                     feature_8  \\\n",
       "0               pri_fees_amount  count_register_gender_female   \n",
       "1                      pri_year                language_child   \n",
       "2                language_child               pri_fees_amount   \n",
       "3                     child_age                       id_team   \n",
       "4                     longitude                       dc_best   \n",
       "...                         ...                           ...   \n",
       "3675                    id_ward               pri_language_97   \n",
       "3676            obs_handwashing                       id_team   \n",
       "3677                  child_age    child_observe_concentrated   \n",
       "3678  count_staff_salary_unpaid                     prov_best   \n",
       "3679             language_match                       id_ward   \n",
       "\n",
       "                         feature_9                    feature_10  \\\n",
       "0                          id_team                     child_age   \n",
       "1                  pri_fees_amount                  child_gender   \n",
       "2           count_toilets_children                     child_age   \n",
       "3                     child_height    child_observe_concentrated   \n",
       "4     teacher_emotional_understand               obs_handwashing   \n",
       "...                            ...                           ...   \n",
       "3675      child_years_in_programme  teacher_emotional_understand   \n",
       "3676                     ward_best                       id_ward   \n",
       "3677                       mn_best  count_register_gender_female   \n",
       "3678             pra_agency_choice                   id_facility   \n",
       "3679                language_child           language_assessment   \n",
       "\n",
       "                        feature_11                    feature_12  \\\n",
       "0                          ses_cat        count_children_present   \n",
       "1     teacher_emotional_understand      count_register_year_2020   \n",
       "2              language_assessment        teacher_selfcare_total   \n",
       "3                        id_prov_n                    id_dc_best   \n",
       "4     count_register_gender_female                       id_prov   \n",
       "...                            ...                           ...   \n",
       "3675          teacher_selfcare_met      count_register_year_2020   \n",
       "3676        count_children_present                     child_dob   \n",
       "3677                language_match  teacher_emotional_understand   \n",
       "3678                  pri_capacity        count_children_present   \n",
       "3679        count_children_present                       mn_best   \n",
       "\n",
       "                        feature_13                feature_14  \\\n",
       "0         child_years_in_programme          obs_materials_19   \n",
       "1                        id_ward_n                   dc_best   \n",
       "2                   language_match               pra_plans_0   \n",
       "3                  count_staff_all  child_years_in_programme   \n",
       "4                        child_dob   count_children_precovid   \n",
       "...                            ...                       ...   \n",
       "3675              teacher_duration       pri_funding_subsidy   \n",
       "3676                language_match             id_enumerator   \n",
       "3677          teacher_social_total    teacher_selfcare_total   \n",
       "3678  teacher_emotional_understand                  obs_area   \n",
       "3679                     longitude                 ward_best   \n",
       "\n",
       "                  feature_15  \n",
       "0               child_gender  \n",
       "1              id_facility_n  \n",
       "2                    ses_cat  \n",
       "3                    mn_best  \n",
       "4       pri_time_close_hours  \n",
       "...                      ...  \n",
       "3675           child_stunted  \n",
       "3676                 id_dc_n  \n",
       "3677            child_gender  \n",
       "3678            child_gender  \n",
       "3679  teacher_selfcare_total  \n",
       "\n",
       "[3680 rows x 17 columns]"
      ]
     },
     "execution_count": 104,
     "metadata": {},
     "output_type": "execute_result"
    }
   ],
   "source": [
    "SS_norm = SampleSubmission.copy()\n",
    "SS_norm[TARGET] = preds_test_norm\n",
    "for i in range(1,16):\n",
    "    SS_norm[f'feature_{i}'] = f_norm[f'f{i}']\n",
    "SS_norm"
   ]
  },
  {
   "cell_type": "code",
   "execution_count": 105,
   "id": "061afcbf",
   "metadata": {
    "execution": {
     "iopub.execute_input": "2023-02-24T01:48:05.955356Z",
     "iopub.status.busy": "2023-02-24T01:48:05.954888Z",
     "iopub.status.idle": "2023-02-24T01:48:05.996375Z",
     "shell.execute_reply": "2023-02-24T01:48:05.994894Z"
    },
    "papermill": {
     "duration": 0.056071,
     "end_time": "2023-02-24T01:48:05.999494",
     "exception": false,
     "start_time": "2023-02-24T01:48:05.943423",
     "status": "completed"
    },
    "tags": []
   },
   "outputs": [],
   "source": [
    "# submission file\n",
    "today = dt.now().strftime(format=\"%Y-%m-%d_%Hh%M\")\n",
    "SS_norm.to_csv(f'submissions/soumission-{today}.csv', index=False)"
   ]
  },
  {
   "attachments": {},
   "cell_type": "markdown",
   "id": "4fbf31dc",
   "metadata": {},
   "source": [
    "## Saving model"
   ]
  },
  {
   "cell_type": "code",
   "execution_count": 35,
   "id": "2ce7e26a",
   "metadata": {},
   "outputs": [
    {
     "data": {
      "text/plain": [
       "['models/catboost_10.05605957.pkl']"
      ]
     },
     "execution_count": 35,
     "metadata": {},
     "output_type": "execute_result"
    }
   ],
   "source": [
    "# Save the model as a pickle in a file\n",
    "model = model_cbr\n",
    "file_name = 'catboost_10.05605957'\n",
    "joblib.dump(model, f'models/{file_name}.pkl')"
   ]
  }
 ],
 "metadata": {
  "kernelspec": {
   "display_name": "Python 3",
   "language": "python",
   "name": "python3"
  },
  "language_info": {
   "codemirror_mode": {
    "name": "ipython",
    "version": 3
   },
   "file_extension": ".py",
   "mimetype": "text/x-python",
   "name": "python",
   "nbconvert_exporter": "python",
   "pygments_lexer": "ipython3",
   "version": "3.10.10"
  },
  "papermill": {
   "default_parameters": {},
   "duration": 1097.070197,
   "end_time": "2023-02-24T01:48:07.357641",
   "environment_variables": {},
   "exception": null,
   "input_path": "__notebook__.ipynb",
   "output_path": "__notebook__.ipynb",
   "parameters": {},
   "start_time": "2023-02-24T01:29:50.287444",
   "version": "2.3.4"
  }
 },
 "nbformat": 4,
 "nbformat_minor": 5
}
